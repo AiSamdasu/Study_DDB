{
  "nbformat": 4,
  "nbformat_minor": 0,
  "metadata": {
    "colab": {
      "provenance": [],
      "authorship_tag": "ABX9TyPluGVsni7CegAAK6MYG/QI",
      "include_colab_link": true
    },
    "kernelspec": {
      "name": "python3",
      "display_name": "Python 3"
    },
    "language_info": {
      "name": "python"
    }
  },
  "cells": [
    {
      "cell_type": "markdown",
      "metadata": {
        "id": "view-in-github",
        "colab_type": "text"
      },
      "source": [
        "<a href=\"https://colab.research.google.com/github/AiSamdasu/Study_DDB/blob/main/Chapter2.ipynb\" target=\"_parent\"><img src=\"https://colab.research.google.com/assets/colab-badge.svg\" alt=\"Open In Colab\"/></a>"
      ]
    },
    {
      "cell_type": "markdown",
      "source": [
        "# 1. 사이킷런(scikit-learn)\n",
        "- 머신러닝 라이브러리(파이썬 ML 라이브러리)\n",
        "- 가장 많이씀"
      ],
      "metadata": {
        "id": "4WfTcNH0AlJu"
      }
    },
    {
      "cell_type": "markdown",
      "source": [
        "# 2. 붓꽃 품종 예측하기\n"
      ],
      "metadata": {
        "id": "X0p69rN3BKU5"
      }
    },
    {
      "cell_type": "markdown",
      "source": [
        "### 지도학습\n",
        "- 분류, 회귀 : 대표적인 지도학습\n",
        "- 학습을 위한 다양한 피처와 분류 결정값인 레이블(Label)데이터로 모델을 학습한 뒤,별도의 테스트 데이터 세트에서 미지의 레이블을 예측\n",
        "- 명확한 정답이 주어진 데이터를 먼저 학습 -> 미지의 정답을 예측하는 방식\n",
        "---\n",
        "학습 데이터 세트 : 학습을 위해 주어진 데이터 세트\n",
        "테스트 데이터 세트 : 머신러닝 모델의 예측 성능을 평가하기 위해 별도로 주어진 데이터 세트"
      ],
      "metadata": {
        "id": "bvJq71YqDxKs"
      }
    },
    {
      "cell_type": "markdown",
      "source": [
        "### 레이블 데이터 세트의 개념\n",
        "- 데이터 샘플(입력 데이터, feature)과 정답(출력 데이터, label)이 함께 존재하는 데이터 세트.\n",
        "- 지도학습(Supervised Learning)에 사용됨.<br><br>\n",
        "---\n",
        "- 데이터 분석에서 **레이블 데이터 세트(labeled dataset)**란, 각 데이터 포인트에 대해 **정답(레이블, label)**이 명확하게 주어진 데이터 세트를 의미"
      ],
      "metadata": {
        "id": "OruxcJX6JKby"
      }
    },
    {
      "cell_type": "markdown",
      "source": [
        "### 사이킷 런 사용\n",
        "- 사이킷런 패키지내의 모듈명 : sklearn\n"
      ],
      "metadata": {
        "id": "-Ue24HPnEFgM"
      }
    },
    {
      "cell_type": "code",
      "execution_count": 2,
      "metadata": {
        "id": "KwKD7CqiL-k6"
      },
      "outputs": [],
      "source": [
        "import pandas as pd\n",
        "import numpy as np\n",
        "from sklearn.model_selection import train_test_split\n",
        "# 학습 데이터와 검증 데이터, 예측 데이터로 데이터를 분리\n",
        "# 최적의 하이퍼 파라미터로 평가하기 위한 다양한 모듈 모임\n",
        "#         하이퍼 파라미터 : 최적의 학습을 위해 직접 입력하는 파라미터\n",
        "from sklearn.tree import DecisionTreeClassifier\n",
        "# 트리 기반 ML알고리즘을 구현한 클래스의 모임\n",
        "from sklearn.datasets import load_iris\n",
        "# 사이킷런에서 자체적으로 제공하는 데이터 세트를 생성하는 모듈의 모임"
      ]
    },
    {
      "cell_type": "code",
      "source": [
        "iris = load_iris()\n",
        "# iris.data -> Iris 데이터 세트에서 피처(feature)만으로 된 데이터를 numpy로 보유\n",
        "iris_data = iris.data\n",
        "# 붓꽃 데이터 세트에서 레이블(결정 값) 데이터를 numpy로 보유\n",
        "iris_label = iris.target\n",
        "\n",
        "# DF로 변경\n",
        "iris_df = pd.DataFrame(data=iris_data, columns=iris.feature_names)\n",
        "iris_df['label'] = iris.target\n",
        "iris_df.head(3)\n"
      ],
      "metadata": {
        "id": "nC9yodzrMC8d",
        "colab": {
          "base_uri": "https://localhost:8080/",
          "height": 143
        },
        "outputId": "e452de83-8508-4d5c-c202-cacd8e932ed8"
      },
      "execution_count": 3,
      "outputs": [
        {
          "output_type": "execute_result",
          "data": {
            "text/plain": [
              "   sepal length (cm)  sepal width (cm)  petal length (cm)  petal width (cm)  \\\n",
              "0                5.1               3.5                1.4               0.2   \n",
              "1                4.9               3.0                1.4               0.2   \n",
              "2                4.7               3.2                1.3               0.2   \n",
              "\n",
              "   label  \n",
              "0      0  \n",
              "1      0  \n",
              "2      0  "
            ],
            "text/html": [
              "\n",
              "  <div id=\"df-7e198497-68cd-4f9e-92fe-f3ba637522bb\" class=\"colab-df-container\">\n",
              "    <div>\n",
              "<style scoped>\n",
              "    .dataframe tbody tr th:only-of-type {\n",
              "        vertical-align: middle;\n",
              "    }\n",
              "\n",
              "    .dataframe tbody tr th {\n",
              "        vertical-align: top;\n",
              "    }\n",
              "\n",
              "    .dataframe thead th {\n",
              "        text-align: right;\n",
              "    }\n",
              "</style>\n",
              "<table border=\"1\" class=\"dataframe\">\n",
              "  <thead>\n",
              "    <tr style=\"text-align: right;\">\n",
              "      <th></th>\n",
              "      <th>sepal length (cm)</th>\n",
              "      <th>sepal width (cm)</th>\n",
              "      <th>petal length (cm)</th>\n",
              "      <th>petal width (cm)</th>\n",
              "      <th>label</th>\n",
              "    </tr>\n",
              "  </thead>\n",
              "  <tbody>\n",
              "    <tr>\n",
              "      <th>0</th>\n",
              "      <td>5.1</td>\n",
              "      <td>3.5</td>\n",
              "      <td>1.4</td>\n",
              "      <td>0.2</td>\n",
              "      <td>0</td>\n",
              "    </tr>\n",
              "    <tr>\n",
              "      <th>1</th>\n",
              "      <td>4.9</td>\n",
              "      <td>3.0</td>\n",
              "      <td>1.4</td>\n",
              "      <td>0.2</td>\n",
              "      <td>0</td>\n",
              "    </tr>\n",
              "    <tr>\n",
              "      <th>2</th>\n",
              "      <td>4.7</td>\n",
              "      <td>3.2</td>\n",
              "      <td>1.3</td>\n",
              "      <td>0.2</td>\n",
              "      <td>0</td>\n",
              "    </tr>\n",
              "  </tbody>\n",
              "</table>\n",
              "</div>\n",
              "    <div class=\"colab-df-buttons\">\n",
              "\n",
              "  <div class=\"colab-df-container\">\n",
              "    <button class=\"colab-df-convert\" onclick=\"convertToInteractive('df-7e198497-68cd-4f9e-92fe-f3ba637522bb')\"\n",
              "            title=\"Convert this dataframe to an interactive table.\"\n",
              "            style=\"display:none;\">\n",
              "\n",
              "  <svg xmlns=\"http://www.w3.org/2000/svg\" height=\"24px\" viewBox=\"0 -960 960 960\">\n",
              "    <path d=\"M120-120v-720h720v720H120Zm60-500h600v-160H180v160Zm220 220h160v-160H400v160Zm0 220h160v-160H400v160ZM180-400h160v-160H180v160Zm440 0h160v-160H620v160ZM180-180h160v-160H180v160Zm440 0h160v-160H620v160Z\"/>\n",
              "  </svg>\n",
              "    </button>\n",
              "\n",
              "  <style>\n",
              "    .colab-df-container {\n",
              "      display:flex;\n",
              "      gap: 12px;\n",
              "    }\n",
              "\n",
              "    .colab-df-convert {\n",
              "      background-color: #E8F0FE;\n",
              "      border: none;\n",
              "      border-radius: 50%;\n",
              "      cursor: pointer;\n",
              "      display: none;\n",
              "      fill: #1967D2;\n",
              "      height: 32px;\n",
              "      padding: 0 0 0 0;\n",
              "      width: 32px;\n",
              "    }\n",
              "\n",
              "    .colab-df-convert:hover {\n",
              "      background-color: #E2EBFA;\n",
              "      box-shadow: 0px 1px 2px rgba(60, 64, 67, 0.3), 0px 1px 3px 1px rgba(60, 64, 67, 0.15);\n",
              "      fill: #174EA6;\n",
              "    }\n",
              "\n",
              "    .colab-df-buttons div {\n",
              "      margin-bottom: 4px;\n",
              "    }\n",
              "\n",
              "    [theme=dark] .colab-df-convert {\n",
              "      background-color: #3B4455;\n",
              "      fill: #D2E3FC;\n",
              "    }\n",
              "\n",
              "    [theme=dark] .colab-df-convert:hover {\n",
              "      background-color: #434B5C;\n",
              "      box-shadow: 0px 1px 3px 1px rgba(0, 0, 0, 0.15);\n",
              "      filter: drop-shadow(0px 1px 2px rgba(0, 0, 0, 0.3));\n",
              "      fill: #FFFFFF;\n",
              "    }\n",
              "  </style>\n",
              "\n",
              "    <script>\n",
              "      const buttonEl =\n",
              "        document.querySelector('#df-7e198497-68cd-4f9e-92fe-f3ba637522bb button.colab-df-convert');\n",
              "      buttonEl.style.display =\n",
              "        google.colab.kernel.accessAllowed ? 'block' : 'none';\n",
              "\n",
              "      async function convertToInteractive(key) {\n",
              "        const element = document.querySelector('#df-7e198497-68cd-4f9e-92fe-f3ba637522bb');\n",
              "        const dataTable =\n",
              "          await google.colab.kernel.invokeFunction('convertToInteractive',\n",
              "                                                    [key], {});\n",
              "        if (!dataTable) return;\n",
              "\n",
              "        const docLinkHtml = 'Like what you see? Visit the ' +\n",
              "          '<a target=\"_blank\" href=https://colab.research.google.com/notebooks/data_table.ipynb>data table notebook</a>'\n",
              "          + ' to learn more about interactive tables.';\n",
              "        element.innerHTML = '';\n",
              "        dataTable['output_type'] = 'display_data';\n",
              "        await google.colab.output.renderOutput(dataTable, element);\n",
              "        const docLink = document.createElement('div');\n",
              "        docLink.innerHTML = docLinkHtml;\n",
              "        element.appendChild(docLink);\n",
              "      }\n",
              "    </script>\n",
              "  </div>\n",
              "\n",
              "\n",
              "<div id=\"df-255a51d3-6dfd-4820-a372-ccfa768128cd\">\n",
              "  <button class=\"colab-df-quickchart\" onclick=\"quickchart('df-255a51d3-6dfd-4820-a372-ccfa768128cd')\"\n",
              "            title=\"Suggest charts\"\n",
              "            style=\"display:none;\">\n",
              "\n",
              "<svg xmlns=\"http://www.w3.org/2000/svg\" height=\"24px\"viewBox=\"0 0 24 24\"\n",
              "     width=\"24px\">\n",
              "    <g>\n",
              "        <path d=\"M19 3H5c-1.1 0-2 .9-2 2v14c0 1.1.9 2 2 2h14c1.1 0 2-.9 2-2V5c0-1.1-.9-2-2-2zM9 17H7v-7h2v7zm4 0h-2V7h2v10zm4 0h-2v-4h2v4z\"/>\n",
              "    </g>\n",
              "</svg>\n",
              "  </button>\n",
              "\n",
              "<style>\n",
              "  .colab-df-quickchart {\n",
              "      --bg-color: #E8F0FE;\n",
              "      --fill-color: #1967D2;\n",
              "      --hover-bg-color: #E2EBFA;\n",
              "      --hover-fill-color: #174EA6;\n",
              "      --disabled-fill-color: #AAA;\n",
              "      --disabled-bg-color: #DDD;\n",
              "  }\n",
              "\n",
              "  [theme=dark] .colab-df-quickchart {\n",
              "      --bg-color: #3B4455;\n",
              "      --fill-color: #D2E3FC;\n",
              "      --hover-bg-color: #434B5C;\n",
              "      --hover-fill-color: #FFFFFF;\n",
              "      --disabled-bg-color: #3B4455;\n",
              "      --disabled-fill-color: #666;\n",
              "  }\n",
              "\n",
              "  .colab-df-quickchart {\n",
              "    background-color: var(--bg-color);\n",
              "    border: none;\n",
              "    border-radius: 50%;\n",
              "    cursor: pointer;\n",
              "    display: none;\n",
              "    fill: var(--fill-color);\n",
              "    height: 32px;\n",
              "    padding: 0;\n",
              "    width: 32px;\n",
              "  }\n",
              "\n",
              "  .colab-df-quickchart:hover {\n",
              "    background-color: var(--hover-bg-color);\n",
              "    box-shadow: 0 1px 2px rgba(60, 64, 67, 0.3), 0 1px 3px 1px rgba(60, 64, 67, 0.15);\n",
              "    fill: var(--button-hover-fill-color);\n",
              "  }\n",
              "\n",
              "  .colab-df-quickchart-complete:disabled,\n",
              "  .colab-df-quickchart-complete:disabled:hover {\n",
              "    background-color: var(--disabled-bg-color);\n",
              "    fill: var(--disabled-fill-color);\n",
              "    box-shadow: none;\n",
              "  }\n",
              "\n",
              "  .colab-df-spinner {\n",
              "    border: 2px solid var(--fill-color);\n",
              "    border-color: transparent;\n",
              "    border-bottom-color: var(--fill-color);\n",
              "    animation:\n",
              "      spin 1s steps(1) infinite;\n",
              "  }\n",
              "\n",
              "  @keyframes spin {\n",
              "    0% {\n",
              "      border-color: transparent;\n",
              "      border-bottom-color: var(--fill-color);\n",
              "      border-left-color: var(--fill-color);\n",
              "    }\n",
              "    20% {\n",
              "      border-color: transparent;\n",
              "      border-left-color: var(--fill-color);\n",
              "      border-top-color: var(--fill-color);\n",
              "    }\n",
              "    30% {\n",
              "      border-color: transparent;\n",
              "      border-left-color: var(--fill-color);\n",
              "      border-top-color: var(--fill-color);\n",
              "      border-right-color: var(--fill-color);\n",
              "    }\n",
              "    40% {\n",
              "      border-color: transparent;\n",
              "      border-right-color: var(--fill-color);\n",
              "      border-top-color: var(--fill-color);\n",
              "    }\n",
              "    60% {\n",
              "      border-color: transparent;\n",
              "      border-right-color: var(--fill-color);\n",
              "    }\n",
              "    80% {\n",
              "      border-color: transparent;\n",
              "      border-right-color: var(--fill-color);\n",
              "      border-bottom-color: var(--fill-color);\n",
              "    }\n",
              "    90% {\n",
              "      border-color: transparent;\n",
              "      border-bottom-color: var(--fill-color);\n",
              "    }\n",
              "  }\n",
              "</style>\n",
              "\n",
              "  <script>\n",
              "    async function quickchart(key) {\n",
              "      const quickchartButtonEl =\n",
              "        document.querySelector('#' + key + ' button');\n",
              "      quickchartButtonEl.disabled = true;  // To prevent multiple clicks.\n",
              "      quickchartButtonEl.classList.add('colab-df-spinner');\n",
              "      try {\n",
              "        const charts = await google.colab.kernel.invokeFunction(\n",
              "            'suggestCharts', [key], {});\n",
              "      } catch (error) {\n",
              "        console.error('Error during call to suggestCharts:', error);\n",
              "      }\n",
              "      quickchartButtonEl.classList.remove('colab-df-spinner');\n",
              "      quickchartButtonEl.classList.add('colab-df-quickchart-complete');\n",
              "    }\n",
              "    (() => {\n",
              "      let quickchartButtonEl =\n",
              "        document.querySelector('#df-255a51d3-6dfd-4820-a372-ccfa768128cd button');\n",
              "      quickchartButtonEl.style.display =\n",
              "        google.colab.kernel.accessAllowed ? 'block' : 'none';\n",
              "    })();\n",
              "  </script>\n",
              "</div>\n",
              "\n",
              "    </div>\n",
              "  </div>\n"
            ],
            "application/vnd.google.colaboratory.intrinsic+json": {
              "type": "dataframe",
              "variable_name": "iris_df",
              "summary": "{\n  \"name\": \"iris_df\",\n  \"rows\": 150,\n  \"fields\": [\n    {\n      \"column\": \"sepal length (cm)\",\n      \"properties\": {\n        \"dtype\": \"number\",\n        \"std\": 0.8280661279778629,\n        \"min\": 4.3,\n        \"max\": 7.9,\n        \"num_unique_values\": 35,\n        \"samples\": [\n          6.2,\n          4.5,\n          5.6\n        ],\n        \"semantic_type\": \"\",\n        \"description\": \"\"\n      }\n    },\n    {\n      \"column\": \"sepal width (cm)\",\n      \"properties\": {\n        \"dtype\": \"number\",\n        \"std\": 0.435866284936698,\n        \"min\": 2.0,\n        \"max\": 4.4,\n        \"num_unique_values\": 23,\n        \"samples\": [\n          2.3,\n          4.0,\n          3.5\n        ],\n        \"semantic_type\": \"\",\n        \"description\": \"\"\n      }\n    },\n    {\n      \"column\": \"petal length (cm)\",\n      \"properties\": {\n        \"dtype\": \"number\",\n        \"std\": 1.7652982332594667,\n        \"min\": 1.0,\n        \"max\": 6.9,\n        \"num_unique_values\": 43,\n        \"samples\": [\n          6.7,\n          3.8,\n          3.7\n        ],\n        \"semantic_type\": \"\",\n        \"description\": \"\"\n      }\n    },\n    {\n      \"column\": \"petal width (cm)\",\n      \"properties\": {\n        \"dtype\": \"number\",\n        \"std\": 0.7622376689603465,\n        \"min\": 0.1,\n        \"max\": 2.5,\n        \"num_unique_values\": 22,\n        \"samples\": [\n          0.2,\n          1.2,\n          1.3\n        ],\n        \"semantic_type\": \"\",\n        \"description\": \"\"\n      }\n    },\n    {\n      \"column\": \"label\",\n      \"properties\": {\n        \"dtype\": \"number\",\n        \"std\": 0,\n        \"min\": 0,\n        \"max\": 2,\n        \"num_unique_values\": 3,\n        \"samples\": [\n          0,\n          1,\n          2\n        ],\n        \"semantic_type\": \"\",\n        \"description\": \"\"\n      }\n    }\n  ]\n}"
            }
          },
          "metadata": {},
          "execution_count": 3
        }
      ]
    },
    {
      "cell_type": "markdown",
      "source": [
        "### 학습용 데이터와 테스트용 데이터로 분리 -> train_test_split() API 사용  \n",
        " train_test_split(\n",
        "  <br>&nbsp;&nbsp;&nbsp;&nbsp;(1: 피처 데이터 세트),\n",
        "  <br>&nbsp;&nbsp;&nbsp;&nbsp;(2: 레이블(Label) 데이터 세트),\n",
        "  <br>&nbsp;&nbsp;&nbsp;&nbsp;(3: test_size == 테스트 데이터 세트의 비율, 20%),\n",
        "  <br>&nbsp;&nbsp;&nbsp;&nbsp;(4: random_state == 수행할때 동일한 학습/테스트 용 데이터 세트를 생성, seed값 )\n",
        "  <br>)"
      ],
      "metadata": {
        "id": "f4o967FAGJbs"
      }
    },
    {
      "cell_type": "code",
      "source": [
        "X_train, X_test, y_train, y_test = train_test_split(iris_data, iris_label, test_size=0.2, random_state=11)\n",
        "# X_train -> 학습용 피처 데이터 세트\n",
        "# X_test -> 테스트용 피처 데이터 세트\n",
        "# y_train -> 학습용 레이블 데이터 세트\n",
        "# y_test -> 테스트용 레이블 데이터 세트"
      ],
      "metadata": {
        "id": "tKWnr01PKHxH"
      },
      "execution_count": 4,
      "outputs": []
    },
    {
      "cell_type": "markdown",
      "source": [
        "### 머신러닝 분류 알고리즘의 하나인, 의사 결정 트리 사용\n",
        "- DecisionTreeClassifier 를 객체로 사용\n",
        "---\n",
        "### DecisionTreeClassifier\n",
        "- 결정 트리(Decision Tree) 알고리즘을 사용하여 분류(Classification)를 수행하는 모델\n",
        "- 데이터의 특징(feature)에 따라 조건문(if-else) 형태의 트리 구조를 형성하여 학습\n",
        "- 특정 기준(예: 지니 지수, 엔트로피 등)을 사용하여 데이터를 여러 그룹으로 나누어 최적의 분류를 수행."
      ],
      "metadata": {
        "id": "rO1Iy-SBJrCd"
      }
    },
    {
      "cell_type": "code",
      "source": [
        "# DecisionTreeClassifier 객체 생성\n",
        "dt_clf = DecisionTreeClassifier(random_state=11)\n",
        "\n",
        "# 학습 수행\n",
        "dt_clf.fit(X_train, y_train)\n",
        "\n",
        "# 학습이 완료된 DecisionTreeClassifier객체에서 테스트 데이터로 예측 수행\n",
        "pred = dt_clf.predict(X_test)\n",
        "\n",
        "# 사이킷런에서 제공하는 score 확인 함수\n",
        "from sklearn.metrics import accuracy_score\n",
        "print('예측 정확도 : {0:.4f}'.format(accuracy_score(y_test, pred)))"
      ],
      "metadata": {
        "id": "sQ82QfprKHuT",
        "colab": {
          "base_uri": "https://localhost:8080/"
        },
        "outputId": "65050de3-9b79-427c-9f27-688dd31ae693"
      },
      "execution_count": 5,
      "outputs": [
        {
          "output_type": "stream",
          "name": "stdout",
          "text": [
            "예측 정확도 : 0.9333\n"
          ]
        }
      ]
    },
    {
      "cell_type": "markdown",
      "source": [
        "\n",
        "현재까지 붓꽃 데이터 세트로 분류를 예측한 프로세스\n",
        "1. 데이터 세트 분리 : 학습 데이터와 테스트 데이터로 분리\n",
        "2. 모델 학습 : 학습 데이터로 ML모델 학습\n",
        "3. 예측 수행 : 학습된 ML모델로 테스트 데이터로 예측\n",
        "4. 평가 : score\n",
        "---"
      ],
      "metadata": {
        "id": "4QFtadZvMY5H"
      }
    },
    {
      "cell_type": "markdown",
      "source": [
        "---\n",
        "## fit(), predict() 메서드\n",
        "- fit() : ML모델 학습\n",
        "- predict() : 학습된 모델 예측\n",
        "---\n",
        "## Estimator : 지도학습의 모든 알고리즘을 구현한 클래스 통칭\n",
        "Estimator -> Classifier + Regressor\n",
        "- Classifier : 분류 알고리즘을 구현한 클래스\n",
        "- Regressor : 회귀 알고리즘을 구현한 클래스\n",
        "---"
      ],
      "metadata": {
        "id": "iDYqjZ0NNeqw"
      }
    },
    {
      "cell_type": "markdown",
      "source": [
        "# 3. 사이킷런 주요 모듈 정리\n",
        "\n",
        "| 분류 | 모듈명 | 설명 |\n",
        "|------|-------|------|\n",
        "| 예제 데이터 | `sklearn.datasets` | 사이킷런에서 제공하는 다양한 예제 데이터 셋 |\n",
        "| 피처 처리 | `sklearn.feature_extraction` | 텍스트 데이터나 이미지 데이터의 벡터화된 피처를 추출하는 기능 제공 |\n",
        "| |`sklearn.preprocessing` |데이터 전처리에 필요한 다양한 가공 기능(문자열을 숫자형 코드값으로 인코딩, 정규화, 스케일링 등) |\n",
        "| |`sklearn.feature_selection`| 알고리즘에 큰 영향을 미치는 피처를 우선순위대로 셀렉션 작업을 수행하는 다양한 기능 제공|\n",
        "| 피처 처리 & 차원 축소 | `sklearn.decomposition` | 차원 축소와 관련된 알고리즘 제공 (PCA, NMF 등) |\n",
        "| 데이터 분리, 검증 & 파라미터 튜닝 | `sklearn.model_selection` | 교차 검증을 위한 학습/테스트용 데이터 분리, Grid Search를 통한 최적 파라미터 추출 기능 제공 |\n",
        "| 평가 | `sklearn.metrics` | 분류, 회귀, 클러스터링, 피어와이즈(Pariwise) 성능 측정 방법 제공 |\n",
        "| ML 알고리즘 | `sklearn.ensemble` | 앙상블 알고리즘 제공 (랜덤 포레스트, 에이다 부스트 등) |\n",
        "|  | `sklearn.linear_model` | 회귀 관련 알고리즘 제공 (릿지, 라쏘, SGD 등) |\n",
        "|  | `sklearn.naive_bayes` | 나이브 베이즈 알고리즘 제공 (가우시안 NB, 다항 분포 NB 등) |\n",
        "|  | `sklearn.neighbors` | 최근접 이웃 알고리즘 제공 (K-NN 등) |\n",
        "|  | `sklearn.svm` | 서포트 벡터 머신 알고리즘 제공 |\n",
        "|  | `sklearn.tree` | 의사 결정 트리 알고리즘 제공 |\n",
        "|  | `sklearn.cluster` | 비지도 클러스터링 알고리즘 제공 (K-평균, 계층형, DBSCAN 등) |\n",
        "| 유틸리티 | `sklearn.preprocessing` | 피처 스케일링 및 전처리 기능 제공 |\n",
        "|  | `sklearn.pipeline` | 피처 처리 등의 변환과 ML 알고리즘 학습, 예측 등을 함께 묶어서 실행할 수 있는 유틸리티 제공 |\n"
      ],
      "metadata": {
        "id": "9HVoNuhFOFzk"
      }
    },
    {
      "cell_type": "markdown",
      "source": [
        "# 4. Model Selection 모듈 소개\n",
        "Model Selection 모듈 : 학습 데이터와 테스트 데이터 세트를 분리하거나 교차 검증 분할 및 평가, Estimator의 하이퍼 파라미터를 튜닝 하기 위한 다양한 함수와 클래스 제공"
      ],
      "metadata": {
        "id": "kvIvDfAdRerV"
      }
    },
    {
      "cell_type": "markdown",
      "source": [
        "### train_test_split()\n",
        "- 학습데이터와 예측데이터가 동일 -> 정확도 100% 문제 발생\n",
        "- 따라서 분리\n",
        "---\n",
        "train_test_split( (피처 데이터 세트), (레이블 데이터 세트), (선택적 파라미터 입력))"
      ],
      "metadata": {
        "id": "ouTGRBRERzx7"
      }
    },
    {
      "cell_type": "code",
      "source": [
        "# test_size : 전체 데이터에서 테스트 데이터 세트의 크기를 얼마나 할지 정함, 디폴트 0.25(25%)\n",
        "# shuffle : 데이터를 분리하기 전에 데이터를 미리 섞을지 정함, 디폴트 True\n",
        "# random_state : 호출할때 동일할 학습/테스트용 데이터 세트를 생성하깅 위한 난수 값\n",
        "from sklearn.datasets import load_iris\n",
        "from sklearn.tree import DecisionTreeClassifier\n",
        "from sklearn.metrics import accuracy_score\n",
        "from sklearn.model_selection import train_test_split\n",
        "\n",
        "iris = load_iris()\n",
        "dt_clf = DecisionTreeClassifier()\n",
        "# 테스트 데이터 세트를 전체 30%로 설정\n",
        "X_train, X_test, y_train, y_test = train_test_split(iris.data, iris.target, test_size=0.3, random_state=121)\n",
        "dt_clf.fit(X_train, y_train)\n",
        "pred = dt_clf.predict(X_test)\n",
        "print('예측 정확도 : {0:.4f}'.format(accuracy_score(y_test, pred)))"
      ],
      "metadata": {
        "id": "GzpeNtVsKHok",
        "colab": {
          "base_uri": "https://localhost:8080/"
        },
        "outputId": "6fb7873a-47c6-4b80-a7f1-f3c968131649"
      },
      "execution_count": 6,
      "outputs": [
        {
          "output_type": "stream",
          "name": "stdout",
          "text": [
            "예측 정확도 : 0.9556\n"
          ]
        }
      ]
    },
    {
      "cell_type": "markdown",
      "source": [
        "## 교차 검증\n",
        "- 과적합 문제 해결\n",
        "  - 과적합 :\n",
        "    -  모델이 학습데이터에만 과도하게 최적화 되어 있는것\n",
        "    - 실제 예측을 다른 데이터로 수행할 경우 예측 성능이 과도하게 떨어짐\n",
        "\n",
        "- 학습 데이터 세트 -> 학습 데이터 세트 + 검증 데이터 세트로 나눔\n",
        "- 학습 데이터 세트와 검증 데이터 세트에서 학습과 평가를 수행하는 것\n",
        "---\n"
      ],
      "metadata": {
        "id": "X7QsfJsETU1U"
      }
    },
    {
      "cell_type": "markdown",
      "source": [
        "### K폴드 교차 검증\n",
        "- K개의 데이터 폴드 세트를 만들어 K번만큼 각 폴트 세트에 학습과 검증 평가를 반복적으로 수행하는 방법\n"
      ],
      "metadata": {
        "id": "kPIoSNoT05fD"
      }
    },
    {
      "cell_type": "code",
      "source": [
        "from sklearn.tree import DecisionTreeClassifier\n",
        "from sklearn.metrics import accuracy_score\n",
        "from sklearn.model_selection import KFold\n",
        "import numpy as np\n",
        "\n",
        "iris = load_iris()\n",
        "features = iris.data\n",
        "label = iris.target\n",
        "dt_clf = DecisionTreeClassifier(random_state=156)\n",
        "\n",
        "# 5개의 폴드 세트로 분리하는 kFold 객체와 폴드 세트별 정확도를 담을 리스트 객체 생성\n",
        "kfold = KFold(n_splits=5)\n",
        "cv_accuracy = []\n",
        "print('붓꽃 데이터 세트 크기 : ', features.shape[0])\n"
      ],
      "metadata": {
        "id": "UfpvxxwDKHlw",
        "colab": {
          "base_uri": "https://localhost:8080/"
        },
        "outputId": "e9104290-7e63-4da3-8092-0f2134a3f763"
      },
      "execution_count": 7,
      "outputs": [
        {
          "output_type": "stream",
          "name": "stdout",
          "text": [
            "붓꽃 데이터 세트 크기 :  150\n"
          ]
        }
      ]
    },
    {
      "cell_type": "code",
      "source": [
        "n_iter = 0\n",
        "# kFold 객체의 split()를 호출하면 폴드별 학습용, 검증용 테스트의 로우 인덱스를  array로 반환\n",
        "for train_index, test_index in kfold.split(features):\n",
        "    # kfold.split()으로 반환된 인덱스를 이용하여 학습용, 검증용 테스트 데이터 추출\n",
        "    X_train, X_test = features[train_index], features[test_index]\n",
        "    y_train, y_test = label[train_index], label[test_index]\n",
        "    # 학습 및 예측\n",
        "    dt_clf.fit(X_train, y_train)\n",
        "    pred = dt_clf.predict(X_test)\n",
        "    n_iter += 1\n",
        "    # 반복 시마다 정확도 측정\n",
        "    accuracy = np.round(accuracy_score(y_test, pred), 4)\n",
        "    train_size = X_train.shape[0]\n",
        "    test_size = X_test.shape[0]\n",
        "    print('\\n#{0} 교차 검증 정확도 : {1}, 학습 데이터 크기 : {2}, 검증 데이터 크기 : {3}'.format(n_iter, accuracy, train_size, test_size))\n",
        "    print('#{0} 검증 세트 인덱스 : {1}'.format(n_iter, test_index))\n",
        "    cv_accuracy.append(accuracy)\n",
        "\n",
        "# 개별 iteration별 정확도를 합하여 평균 정확도 계산\n",
        "print('\\n## 평균 검증 정확도 : ', np.mean(cv_accuracy))"
      ],
      "metadata": {
        "id": "TcvHDPUdKHjL",
        "colab": {
          "base_uri": "https://localhost:8080/"
        },
        "outputId": "63c4f286-73b5-4e4f-af4d-90b50f424430"
      },
      "execution_count": 8,
      "outputs": [
        {
          "output_type": "stream",
          "name": "stdout",
          "text": [
            "\n",
            "#1 교차 검증 정확도 : 1.0, 학습 데이터 크기 : 120, 검증 데이터 크기 : 30\n",
            "#1 검증 세트 인덱스 : [ 0  1  2  3  4  5  6  7  8  9 10 11 12 13 14 15 16 17 18 19 20 21 22 23\n",
            " 24 25 26 27 28 29]\n",
            "\n",
            "#2 교차 검증 정확도 : 0.9667, 학습 데이터 크기 : 120, 검증 데이터 크기 : 30\n",
            "#2 검증 세트 인덱스 : [30 31 32 33 34 35 36 37 38 39 40 41 42 43 44 45 46 47 48 49 50 51 52 53\n",
            " 54 55 56 57 58 59]\n",
            "\n",
            "#3 교차 검증 정확도 : 0.8667, 학습 데이터 크기 : 120, 검증 데이터 크기 : 30\n",
            "#3 검증 세트 인덱스 : [60 61 62 63 64 65 66 67 68 69 70 71 72 73 74 75 76 77 78 79 80 81 82 83\n",
            " 84 85 86 87 88 89]\n",
            "\n",
            "#4 교차 검증 정확도 : 0.9333, 학습 데이터 크기 : 120, 검증 데이터 크기 : 30\n",
            "#4 검증 세트 인덱스 : [ 90  91  92  93  94  95  96  97  98  99 100 101 102 103 104 105 106 107\n",
            " 108 109 110 111 112 113 114 115 116 117 118 119]\n",
            "\n",
            "#5 교차 검증 정확도 : 0.7333, 학습 데이터 크기 : 120, 검증 데이터 크기 : 30\n",
            "#5 검증 세트 인덱스 : [120 121 122 123 124 125 126 127 128 129 130 131 132 133 134 135 136 137\n",
            " 138 139 140 141 142 143 144 145 146 147 148 149]\n",
            "\n",
            "## 평균 검증 정확도 :  0.9\n"
          ]
        }
      ]
    },
    {
      "cell_type": "markdown",
      "source": [
        "### Stratified K폴드\n",
        "- 불균형한(imbalanced) 분포도를 가진 레이블 데이터 집합을 위한 K폴드 방식\n",
        "- 특정 레이블 값이 특이하게 많거나 매우 적어서 값의 분포가 한쪽으로 치우치는 것을 말한다\n",
        "\n",
        "ex) 대출 사기 데이터 -> 전체의 0.0001%로 사기 -> 중요한 데이터지만 원본 데이터와 차이 -> 원본 데이터와 유사하게 학습/테스트 해야함\n"
      ],
      "metadata": {
        "id": "YwrnTPIc66Xn"
      }
    },
    {
      "cell_type": "code",
      "source": [
        "iris = load_iris()\n",
        "iris_df = pd.DataFrame(data=iris.data, columns=iris.feature_names)\n",
        "iris_df['label'] = iris.target\n",
        "iris_df['label'].value_counts()"
      ],
      "metadata": {
        "id": "d1lNJ0R2KHgX",
        "colab": {
          "base_uri": "https://localhost:8080/",
          "height": 210
        },
        "outputId": "212f829a-bdd3-4977-ec08-5bd9f6e5211b"
      },
      "execution_count": 9,
      "outputs": [
        {
          "output_type": "execute_result",
          "data": {
            "text/plain": [
              "label\n",
              "0    50\n",
              "1    50\n",
              "2    50\n",
              "Name: count, dtype: int64"
            ],
            "text/html": [
              "<div>\n",
              "<style scoped>\n",
              "    .dataframe tbody tr th:only-of-type {\n",
              "        vertical-align: middle;\n",
              "    }\n",
              "\n",
              "    .dataframe tbody tr th {\n",
              "        vertical-align: top;\n",
              "    }\n",
              "\n",
              "    .dataframe thead th {\n",
              "        text-align: right;\n",
              "    }\n",
              "</style>\n",
              "<table border=\"1\" class=\"dataframe\">\n",
              "  <thead>\n",
              "    <tr style=\"text-align: right;\">\n",
              "      <th></th>\n",
              "      <th>count</th>\n",
              "    </tr>\n",
              "    <tr>\n",
              "      <th>label</th>\n",
              "      <th></th>\n",
              "    </tr>\n",
              "  </thead>\n",
              "  <tbody>\n",
              "    <tr>\n",
              "      <th>0</th>\n",
              "      <td>50</td>\n",
              "    </tr>\n",
              "    <tr>\n",
              "      <th>1</th>\n",
              "      <td>50</td>\n",
              "    </tr>\n",
              "    <tr>\n",
              "      <th>2</th>\n",
              "      <td>50</td>\n",
              "    </tr>\n",
              "  </tbody>\n",
              "</table>\n",
              "</div><br><label><b>dtype:</b> int64</label>"
            ]
          },
          "metadata": {},
          "execution_count": 9
        }
      ]
    },
    {
      "cell_type": "markdown",
      "source": [
        "레이블 값이 모두 50개로 동일\n",
        "-> Setosa 품종, Versicolor 품종, Virginica 품종 모두 50개\n",
        "\n",
        "---\n",
        "이슈 발생하는 현상을 도출하기 위해 3개의 폴드 세트를 Kfold로 생성, 교차 검증시 생성되는 학습/ 검증 레이블 데이터 값의 분포도 확인"
      ],
      "metadata": {
        "id": "Q-Nr87Zq9rrX"
      }
    },
    {
      "cell_type": "code",
      "source": [
        "kfold = KFold(n_splits=3)\n",
        "n_iter = 0\n",
        "for train_index, test_index in kfold.split(iris_df):\n",
        "    n_iter += 1\n",
        "    label_train = iris_df['label'].iloc[train_index]\n",
        "    label_test = iris_df['label'].iloc[test_index]\n",
        "    print('## 교차 검증 : {0}'.format(n_iter))\n",
        "    print('학습 레이블 데이터 분포 : \\n', label_train.value_counts())\n",
        "    print('검증 레이블 데이터 분포 : \\n', label_test.value_counts())"
      ],
      "metadata": {
        "id": "5hES-ZqaKHdj",
        "colab": {
          "base_uri": "https://localhost:8080/"
        },
        "outputId": "2d9f9901-2d1c-42f3-9afe-eef06f7522b7"
      },
      "execution_count": 10,
      "outputs": [
        {
          "output_type": "stream",
          "name": "stdout",
          "text": [
            "## 교차 검증 : 1\n",
            "학습 레이블 데이터 분포 : \n",
            " label\n",
            "1    50\n",
            "2    50\n",
            "Name: count, dtype: int64\n",
            "검증 레이블 데이터 분포 : \n",
            " label\n",
            "0    50\n",
            "Name: count, dtype: int64\n",
            "## 교차 검증 : 2\n",
            "학습 레이블 데이터 분포 : \n",
            " label\n",
            "0    50\n",
            "2    50\n",
            "Name: count, dtype: int64\n",
            "검증 레이블 데이터 분포 : \n",
            " label\n",
            "1    50\n",
            "Name: count, dtype: int64\n",
            "## 교차 검증 : 3\n",
            "학습 레이블 데이터 분포 : \n",
            " label\n",
            "0    50\n",
            "1    50\n",
            "Name: count, dtype: int64\n",
            "검증 레이블 데이터 분포 : \n",
            " label\n",
            "2    50\n",
            "Name: count, dtype: int64\n"
          ]
        }
      ]
    },
    {
      "cell_type": "markdown",
      "source": [
        "교차 검증 시마다 3개의 폴드 세트로 만들어지는 학습 레이블과 검증 레이블이 완전히 다른 값으로 추출\n",
        "\n",
        "---\n",
        "ex)\n",
        "첫번째 교차 검증시 :\n",
        "- 학습 레이블은 1,2 밖에 없음 -> 0의 경우는 전혀 학습하지 못함\n",
        "- 검증 레이블은 0밖에 없음 -> 학습 모델은 절대 0을 예측하지 못함\n",
        "- 위 방식으로 분할시 검증 예측 정확도는 항상 0\n",
        "\n",
        "---\n",
        "\n",
        "-> 위 문제를 StratifiedKFold로 해결"
      ],
      "metadata": {
        "id": "nUfcEL41-jaZ"
      }
    },
    {
      "cell_type": "markdown",
      "source": [
        "StratifiedKFold 사용 -> KFold와 비슷\n",
        "- split() 메서드에 인자로 피처 데이터세트와 레이블 데이터 세트 2개가 필요"
      ],
      "metadata": {
        "id": "iAY0Fnys_Pk3"
      }
    },
    {
      "cell_type": "code",
      "source": [
        "from sklearn.model_selection import StratifiedKFold\n",
        "\n",
        "skf = StratifiedKFold(n_splits=3)\n",
        "n_iter = 0\n",
        "\n",
        "for train_index, test_index in skf.split(iris_df, iris_df['label']):\n",
        "    n_iter += 1\n",
        "    label_train = iris_df['label'].iloc[train_index]\n",
        "    label_test = iris_df['label'].iloc[test_index]\n",
        "    print('## 교차 검증 : {0}'.format(n_iter))\n",
        "    print('학습 레이블 데이터 분포 : \\n', label_train.value_counts())\n",
        "    print('검증 레이블 데이터 분포 : \\n', label_test.value_counts())"
      ],
      "metadata": {
        "id": "bL8leiZKKHa4",
        "colab": {
          "base_uri": "https://localhost:8080/"
        },
        "outputId": "b1ee8138-e897-4be1-ce4c-45d9881682e4"
      },
      "execution_count": 11,
      "outputs": [
        {
          "output_type": "stream",
          "name": "stdout",
          "text": [
            "## 교차 검증 : 1\n",
            "학습 레이블 데이터 분포 : \n",
            " label\n",
            "2    34\n",
            "0    33\n",
            "1    33\n",
            "Name: count, dtype: int64\n",
            "검증 레이블 데이터 분포 : \n",
            " label\n",
            "0    17\n",
            "1    17\n",
            "2    16\n",
            "Name: count, dtype: int64\n",
            "## 교차 검증 : 2\n",
            "학습 레이블 데이터 분포 : \n",
            " label\n",
            "1    34\n",
            "0    33\n",
            "2    33\n",
            "Name: count, dtype: int64\n",
            "검증 레이블 데이터 분포 : \n",
            " label\n",
            "0    17\n",
            "2    17\n",
            "1    16\n",
            "Name: count, dtype: int64\n",
            "## 교차 검증 : 3\n",
            "학습 레이블 데이터 분포 : \n",
            " label\n",
            "0    34\n",
            "1    33\n",
            "2    33\n",
            "Name: count, dtype: int64\n",
            "검증 레이블 데이터 분포 : \n",
            " label\n",
            "1    17\n",
            "2    17\n",
            "0    16\n",
            "Name: count, dtype: int64\n"
          ]
        }
      ]
    },
    {
      "cell_type": "markdown",
      "source": [
        "학습 레이블과 검증 레이블 데이터 값의 분포도가 거의 동일하게 할당됨"
      ],
      "metadata": {
        "id": "jvlSOXKaAanl"
      }
    },
    {
      "cell_type": "code",
      "source": [
        "dt_clf = DecisionTreeClassifier(random_state=156)\n",
        "\n",
        "skfold = StratifiedKFold(n_splits=3)\n",
        "n_iter = 0\n",
        "cv_accuracy = []\n",
        "\n",
        "# StratifiedKFold의 split() 호출시 반드시 레이블 데이터 세트도 추가 입력 필요\n",
        "for train_index, test_index in skfold.split(features, label):\n",
        "    # split()으로 반환된 인덱스를 이용하여 학습용, 검증용 테스트 데이터 추출\n",
        "    X_train, X_test = features[train_index], features[test_index]\n",
        "    y_train, y_test = label[train_index], label[test_index]\n",
        "    # 학습 및 예측\n",
        "    dt_clf.fit(X_train, y_train)\n",
        "    pred = dt_clf.predict(X_test)\n",
        "\n",
        "    # 반복 시 마다 정확도 측정\n",
        "    n_iter += 1\n",
        "    accuracy = np.round(accuracy_score(y_test, pred), 4)\n",
        "    train_size = X_train.shape[0]\n",
        "    test_size = X_test.shape[0]\n",
        "    print('\\n#{0} 교차 검증 정확도 : {1}, 학습 데이터 크기 : {2}, 검증 데이터 크기 : {3}'.format(n_iter, accuracy, train_size, test_size))\n",
        "    print('#{0} 검증 세트 인덱스 : {1}'.format(n_iter, test_index))\n",
        "    cv_accuracy.append(accuracy)\n",
        "\n",
        "# 교차 검증별 정확도 및 평균 정확도 계산\n",
        "print('\\n## 교차 검증별 정확도 : ', np.round(cv_accuracy, 4))\n",
        "print('## 평균 검증 정확도 : ', np.mean(cv_accuracy))"
      ],
      "metadata": {
        "id": "7gxVv232KHYK",
        "colab": {
          "base_uri": "https://localhost:8080/"
        },
        "outputId": "518c8330-384f-4161-a894-cc0dfe1e09ec"
      },
      "execution_count": 12,
      "outputs": [
        {
          "output_type": "stream",
          "name": "stdout",
          "text": [
            "\n",
            "#1 교차 검증 정확도 : 0.98, 학습 데이터 크기 : 100, 검증 데이터 크기 : 50\n",
            "#1 검증 세트 인덱스 : [  0   1   2   3   4   5   6   7   8   9  10  11  12  13  14  15  16  50\n",
            "  51  52  53  54  55  56  57  58  59  60  61  62  63  64  65  66 100 101\n",
            " 102 103 104 105 106 107 108 109 110 111 112 113 114 115]\n",
            "\n",
            "#2 교차 검증 정확도 : 0.94, 학습 데이터 크기 : 100, 검증 데이터 크기 : 50\n",
            "#2 검증 세트 인덱스 : [ 17  18  19  20  21  22  23  24  25  26  27  28  29  30  31  32  33  67\n",
            "  68  69  70  71  72  73  74  75  76  77  78  79  80  81  82 116 117 118\n",
            " 119 120 121 122 123 124 125 126 127 128 129 130 131 132]\n",
            "\n",
            "#3 교차 검증 정확도 : 0.98, 학습 데이터 크기 : 100, 검증 데이터 크기 : 50\n",
            "#3 검증 세트 인덱스 : [ 34  35  36  37  38  39  40  41  42  43  44  45  46  47  48  49  83  84\n",
            "  85  86  87  88  89  90  91  92  93  94  95  96  97  98  99 133 134 135\n",
            " 136 137 138 139 140 141 142 143 144 145 146 147 148 149]\n",
            "\n",
            "## 교차 검증별 정확도 :  [0.98 0.94 0.98]\n",
            "## 평균 검증 정확도 :  0.9666666666666667\n"
          ]
        }
      ]
    },
    {
      "cell_type": "markdown",
      "source": [
        "과정\n",
        "1. 폴드 세트를 설정\n",
        "2. for 루프에서 반복으로 학습 및 테스트 데이터의 인덱스 추출\n",
        "3. 반복적으로 학습과 예측을 수행하고 예측 성능을 반환\n",
        "\n",
        "---\n",
        "Stratified K 폴드 -> 일반적으로 분류에서 교차검증에서 사용\n",
        "- 분류는 이산값 형태의 레이블\n",
        "- 회귀(Regression)에서는 지원되지 않음\n",
        "  - 회귀의 결정값은 연속된 숫자값이기 때문에 결정값별로 분포를 정하는 의미가 없음"
      ],
      "metadata": {
        "id": "oWLBdunYBXcG"
      }
    },
    {
      "cell_type": "markdown",
      "source": [
        "### cross_val_score()\n",
        "- 위 과정을 한번에 수행해주는 API\n",
        "\n",
        "- 선언\n",
        "\n",
        "---\n",
        "cross_val_score(estimator, X, y=None, scoring=None, cv=None, n_jobs=1, verbose=0, fit_params=None, pre_dispatch='2*n_jobs')\n",
        "\n",
        "<br>\n",
        "return array\n",
        "\n",
        "---\n",
        "<br>estimator, X, y, scoring, cv 가 주요 파라미터 <br>\n",
        "<br>estimator : 분류 알고리즘(Classifier), 회귀 알고리즘(Regressor)\n",
        "<br>x : 피처 데이터 세트\n",
        "<br>Y : 레이블 데이터 세트\n",
        "<br>scoring : 예측 성능 평가 지표를 기술\n",
        "<br>cv : 교차 검증 폴드 수\n"
      ],
      "metadata": {
        "id": "nITX84NNKaRd"
      }
    },
    {
      "cell_type": "code",
      "source": [
        "from sklearn.tree import DecisionTreeClassifier\n",
        "from sklearn.model_selection import cross_val_score, cross_validate\n",
        "from sklearn.datasets import load_iris\n",
        "\n",
        "iris_data = load_iris\n",
        "dt_clf = DecisionTreeClassifier(random_state=156)\n",
        "\n",
        "data = iris.data\n",
        "label = iris.target\n",
        "\n",
        "# 성능 지표는 정확도(accuracy), 교차 검증 세트는 3개\n",
        "scores = cross_val_score(dt_clf, data, label, scoring='accuracy', cv=3)\n",
        "print('교차 검증별 정확도 : ', np.round(scores, 4))\n",
        "print('평균 검증 정확도 : ', np.round(np.mean(scores), 4))"
      ],
      "metadata": {
        "id": "Vz176r7oKHVd",
        "colab": {
          "base_uri": "https://localhost:8080/"
        },
        "outputId": "6322f310-e15c-45cf-9590-91648a622c1e"
      },
      "execution_count": 13,
      "outputs": [
        {
          "output_type": "stream",
          "name": "stdout",
          "text": [
            "교차 검증별 정확도 :  [0.98 0.94 0.98]\n",
            "평균 검증 정확도 :  0.9667\n"
          ]
        }
      ]
    },
    {
      "cell_type": "markdown",
      "source": [
        "cross_val_score() <br>-> cv로 지정된 횟수만큼 scoring 파라미터로 지정된 평가 지표로 평가 결과값을 array로 return <br>\n",
        "\n",
        "---\n",
        "\n",
        "내부적으로 StratifiedKFold 사용\n",
        "\n",
        "---"
      ],
      "metadata": {
        "id": "YQOXsecbMETX"
      }
    },
    {
      "cell_type": "markdown",
      "source": [
        "### GridSearchCV\n",
        "- 교차검증과 최적 하이퍼 파라미터 튜닝을 한번에 처리\n",
        "- Grid -> 격자, 촘촘하게 파라미터를 입력하면서 편리하게 최적의 파라미터를 도출할 수 있는 방앙 제공\n"
      ],
      "metadata": {
        "id": "epF1y2AzMee4"
      }
    },
    {
      "cell_type": "code",
      "source": [
        "grid_parameters = {\n",
        "    'max_depth' : [1,2,3],\n",
        "    'min_samples_split' : [2,3]\n",
        "}\n",
        "# 6번 검증"
      ],
      "metadata": {
        "id": "JcxoEUPnKHTA",
        "colab": {
          "base_uri": "https://localhost:8080/"
        },
        "outputId": "2da11e3b-2e14-4c08-b7cb-d2eb2bc9423e"
      },
      "execution_count": 15,
      "outputs": [
        {
          "output_type": "execute_result",
          "data": {
            "text/plain": [
              "{'max_depth': [1, 2, 3], 'min_samples_split': [2, 3]}"
            ]
          },
          "metadata": {},
          "execution_count": 15
        }
      ]
    },
    {
      "cell_type": "markdown",
      "source": [
        "GridSearchCV 클래스의 생성자 인자<br>\n",
        "<br>estimator : classifier, regressor, pipeline 이 사용될수있음\n",
        "<br>param_grid : key + 리스트 값을 가지는 딕셔너리가 주어짐,\n",
        "<br>scoring : 예측 성능을 측정할 평가 방법을 지정, 주로 accuracy -> 정확도\n",
        "<br>cv : 교차 검증을 위해 분할되는 학습/테스트 세트의 개수를 지정\n",
        "<br>refit : 디폴트가 True, True-> 가장 최적의 하이퍼 파라미터를 찾은 뒤, 입력된 estimator 객체를 해당 하이퍼 파라미터로 재학습 시킴"
      ],
      "metadata": {
        "id": "Iwe89ItSNkIb"
      }
    },
    {
      "cell_type": "code",
      "source": [
        "from sklearn.datasets import load_iris\n",
        "from sklearn.tree import DecisionTreeClassifier\n",
        "from sklearn.model_selection import GridSearchCV\n",
        "\n",
        "# 데이터를 로딩하고 학습 데이터와 테스트 데이터 분리\n",
        "iris_data = load_iris()\n",
        "x_train, X_test, y_train, y_test = train_test_split(iris_data.data, iris_data.target,test_size=0.2, random_state=121)\n",
        "dtree = DecisionTreeClassifier()\n",
        "\n",
        "### 파라미터를 딕셔너리 형태로 설정\n",
        "parameters = {'max_depth' : [1,2,3], 'min_samples_split' : [2,3]}"
      ],
      "metadata": {
        "id": "vtScdZW4KHQM"
      },
      "execution_count": 17,
      "outputs": []
    },
    {
      "cell_type": "code",
      "source": [
        "import pandas as pd\n",
        "\n",
        "# param_grid의 하이퍼 파라미터를 3개의 train, test set fold로 나누어 테스트 수행 설정\n",
        "grid_dtree = GridSearchCV(dtree, param_grid=parameters, cv=3, refit=True)\n",
        "\n",
        "# 붓꽃 학습 데이터로 param_grid의 하이퍼 파라미터를 순차적으로 학습/평가\n",
        "grid_dtree.fit(x_train, y_train)\n",
        "# GridSearchCV 결과를 추출해 DataFrame으로 변환\n",
        "scores_df = pd.DataFrame(grid_dtree.cv_results_)\n",
        "scores_df[['params', 'mean_test_score', 'rank_test_score', 'split0_test_score', 'split1_test_score', 'split2_test_score']]"
      ],
      "metadata": {
        "id": "iBSaeaGMKHNv",
        "colab": {
          "base_uri": "https://localhost:8080/",
          "height": 238
        },
        "outputId": "5fb5f8a8-e0e6-4832-9318-c61f4cf126af"
      },
      "execution_count": 18,
      "outputs": [
        {
          "output_type": "execute_result",
          "data": {
            "text/plain": [
              "                                     params  mean_test_score  rank_test_score  \\\n",
              "0  {'max_depth': 1, 'min_samples_split': 2}         0.700000                5   \n",
              "1  {'max_depth': 1, 'min_samples_split': 3}         0.700000                5   \n",
              "2  {'max_depth': 2, 'min_samples_split': 2}         0.958333                3   \n",
              "3  {'max_depth': 2, 'min_samples_split': 3}         0.958333                3   \n",
              "4  {'max_depth': 3, 'min_samples_split': 2}         0.975000                1   \n",
              "5  {'max_depth': 3, 'min_samples_split': 3}         0.975000                1   \n",
              "\n",
              "   split0_test_score  split1_test_score  split2_test_score  \n",
              "0              0.700                0.7               0.70  \n",
              "1              0.700                0.7               0.70  \n",
              "2              0.925                1.0               0.95  \n",
              "3              0.925                1.0               0.95  \n",
              "4              0.975                1.0               0.95  \n",
              "5              0.975                1.0               0.95  "
            ],
            "text/html": [
              "\n",
              "  <div id=\"df-21c4aa9d-a12e-43df-b1f8-29760915f90f\" class=\"colab-df-container\">\n",
              "    <div>\n",
              "<style scoped>\n",
              "    .dataframe tbody tr th:only-of-type {\n",
              "        vertical-align: middle;\n",
              "    }\n",
              "\n",
              "    .dataframe tbody tr th {\n",
              "        vertical-align: top;\n",
              "    }\n",
              "\n",
              "    .dataframe thead th {\n",
              "        text-align: right;\n",
              "    }\n",
              "</style>\n",
              "<table border=\"1\" class=\"dataframe\">\n",
              "  <thead>\n",
              "    <tr style=\"text-align: right;\">\n",
              "      <th></th>\n",
              "      <th>params</th>\n",
              "      <th>mean_test_score</th>\n",
              "      <th>rank_test_score</th>\n",
              "      <th>split0_test_score</th>\n",
              "      <th>split1_test_score</th>\n",
              "      <th>split2_test_score</th>\n",
              "    </tr>\n",
              "  </thead>\n",
              "  <tbody>\n",
              "    <tr>\n",
              "      <th>0</th>\n",
              "      <td>{'max_depth': 1, 'min_samples_split': 2}</td>\n",
              "      <td>0.700000</td>\n",
              "      <td>5</td>\n",
              "      <td>0.700</td>\n",
              "      <td>0.7</td>\n",
              "      <td>0.70</td>\n",
              "    </tr>\n",
              "    <tr>\n",
              "      <th>1</th>\n",
              "      <td>{'max_depth': 1, 'min_samples_split': 3}</td>\n",
              "      <td>0.700000</td>\n",
              "      <td>5</td>\n",
              "      <td>0.700</td>\n",
              "      <td>0.7</td>\n",
              "      <td>0.70</td>\n",
              "    </tr>\n",
              "    <tr>\n",
              "      <th>2</th>\n",
              "      <td>{'max_depth': 2, 'min_samples_split': 2}</td>\n",
              "      <td>0.958333</td>\n",
              "      <td>3</td>\n",
              "      <td>0.925</td>\n",
              "      <td>1.0</td>\n",
              "      <td>0.95</td>\n",
              "    </tr>\n",
              "    <tr>\n",
              "      <th>3</th>\n",
              "      <td>{'max_depth': 2, 'min_samples_split': 3}</td>\n",
              "      <td>0.958333</td>\n",
              "      <td>3</td>\n",
              "      <td>0.925</td>\n",
              "      <td>1.0</td>\n",
              "      <td>0.95</td>\n",
              "    </tr>\n",
              "    <tr>\n",
              "      <th>4</th>\n",
              "      <td>{'max_depth': 3, 'min_samples_split': 2}</td>\n",
              "      <td>0.975000</td>\n",
              "      <td>1</td>\n",
              "      <td>0.975</td>\n",
              "      <td>1.0</td>\n",
              "      <td>0.95</td>\n",
              "    </tr>\n",
              "    <tr>\n",
              "      <th>5</th>\n",
              "      <td>{'max_depth': 3, 'min_samples_split': 3}</td>\n",
              "      <td>0.975000</td>\n",
              "      <td>1</td>\n",
              "      <td>0.975</td>\n",
              "      <td>1.0</td>\n",
              "      <td>0.95</td>\n",
              "    </tr>\n",
              "  </tbody>\n",
              "</table>\n",
              "</div>\n",
              "    <div class=\"colab-df-buttons\">\n",
              "\n",
              "  <div class=\"colab-df-container\">\n",
              "    <button class=\"colab-df-convert\" onclick=\"convertToInteractive('df-21c4aa9d-a12e-43df-b1f8-29760915f90f')\"\n",
              "            title=\"Convert this dataframe to an interactive table.\"\n",
              "            style=\"display:none;\">\n",
              "\n",
              "  <svg xmlns=\"http://www.w3.org/2000/svg\" height=\"24px\" viewBox=\"0 -960 960 960\">\n",
              "    <path d=\"M120-120v-720h720v720H120Zm60-500h600v-160H180v160Zm220 220h160v-160H400v160Zm0 220h160v-160H400v160ZM180-400h160v-160H180v160Zm440 0h160v-160H620v160ZM180-180h160v-160H180v160Zm440 0h160v-160H620v160Z\"/>\n",
              "  </svg>\n",
              "    </button>\n",
              "\n",
              "  <style>\n",
              "    .colab-df-container {\n",
              "      display:flex;\n",
              "      gap: 12px;\n",
              "    }\n",
              "\n",
              "    .colab-df-convert {\n",
              "      background-color: #E8F0FE;\n",
              "      border: none;\n",
              "      border-radius: 50%;\n",
              "      cursor: pointer;\n",
              "      display: none;\n",
              "      fill: #1967D2;\n",
              "      height: 32px;\n",
              "      padding: 0 0 0 0;\n",
              "      width: 32px;\n",
              "    }\n",
              "\n",
              "    .colab-df-convert:hover {\n",
              "      background-color: #E2EBFA;\n",
              "      box-shadow: 0px 1px 2px rgba(60, 64, 67, 0.3), 0px 1px 3px 1px rgba(60, 64, 67, 0.15);\n",
              "      fill: #174EA6;\n",
              "    }\n",
              "\n",
              "    .colab-df-buttons div {\n",
              "      margin-bottom: 4px;\n",
              "    }\n",
              "\n",
              "    [theme=dark] .colab-df-convert {\n",
              "      background-color: #3B4455;\n",
              "      fill: #D2E3FC;\n",
              "    }\n",
              "\n",
              "    [theme=dark] .colab-df-convert:hover {\n",
              "      background-color: #434B5C;\n",
              "      box-shadow: 0px 1px 3px 1px rgba(0, 0, 0, 0.15);\n",
              "      filter: drop-shadow(0px 1px 2px rgba(0, 0, 0, 0.3));\n",
              "      fill: #FFFFFF;\n",
              "    }\n",
              "  </style>\n",
              "\n",
              "    <script>\n",
              "      const buttonEl =\n",
              "        document.querySelector('#df-21c4aa9d-a12e-43df-b1f8-29760915f90f button.colab-df-convert');\n",
              "      buttonEl.style.display =\n",
              "        google.colab.kernel.accessAllowed ? 'block' : 'none';\n",
              "\n",
              "      async function convertToInteractive(key) {\n",
              "        const element = document.querySelector('#df-21c4aa9d-a12e-43df-b1f8-29760915f90f');\n",
              "        const dataTable =\n",
              "          await google.colab.kernel.invokeFunction('convertToInteractive',\n",
              "                                                    [key], {});\n",
              "        if (!dataTable) return;\n",
              "\n",
              "        const docLinkHtml = 'Like what you see? Visit the ' +\n",
              "          '<a target=\"_blank\" href=https://colab.research.google.com/notebooks/data_table.ipynb>data table notebook</a>'\n",
              "          + ' to learn more about interactive tables.';\n",
              "        element.innerHTML = '';\n",
              "        dataTable['output_type'] = 'display_data';\n",
              "        await google.colab.output.renderOutput(dataTable, element);\n",
              "        const docLink = document.createElement('div');\n",
              "        docLink.innerHTML = docLinkHtml;\n",
              "        element.appendChild(docLink);\n",
              "      }\n",
              "    </script>\n",
              "  </div>\n",
              "\n",
              "\n",
              "<div id=\"df-19dbd73a-625d-4216-a1a0-a798cc088920\">\n",
              "  <button class=\"colab-df-quickchart\" onclick=\"quickchart('df-19dbd73a-625d-4216-a1a0-a798cc088920')\"\n",
              "            title=\"Suggest charts\"\n",
              "            style=\"display:none;\">\n",
              "\n",
              "<svg xmlns=\"http://www.w3.org/2000/svg\" height=\"24px\"viewBox=\"0 0 24 24\"\n",
              "     width=\"24px\">\n",
              "    <g>\n",
              "        <path d=\"M19 3H5c-1.1 0-2 .9-2 2v14c0 1.1.9 2 2 2h14c1.1 0 2-.9 2-2V5c0-1.1-.9-2-2-2zM9 17H7v-7h2v7zm4 0h-2V7h2v10zm4 0h-2v-4h2v4z\"/>\n",
              "    </g>\n",
              "</svg>\n",
              "  </button>\n",
              "\n",
              "<style>\n",
              "  .colab-df-quickchart {\n",
              "      --bg-color: #E8F0FE;\n",
              "      --fill-color: #1967D2;\n",
              "      --hover-bg-color: #E2EBFA;\n",
              "      --hover-fill-color: #174EA6;\n",
              "      --disabled-fill-color: #AAA;\n",
              "      --disabled-bg-color: #DDD;\n",
              "  }\n",
              "\n",
              "  [theme=dark] .colab-df-quickchart {\n",
              "      --bg-color: #3B4455;\n",
              "      --fill-color: #D2E3FC;\n",
              "      --hover-bg-color: #434B5C;\n",
              "      --hover-fill-color: #FFFFFF;\n",
              "      --disabled-bg-color: #3B4455;\n",
              "      --disabled-fill-color: #666;\n",
              "  }\n",
              "\n",
              "  .colab-df-quickchart {\n",
              "    background-color: var(--bg-color);\n",
              "    border: none;\n",
              "    border-radius: 50%;\n",
              "    cursor: pointer;\n",
              "    display: none;\n",
              "    fill: var(--fill-color);\n",
              "    height: 32px;\n",
              "    padding: 0;\n",
              "    width: 32px;\n",
              "  }\n",
              "\n",
              "  .colab-df-quickchart:hover {\n",
              "    background-color: var(--hover-bg-color);\n",
              "    box-shadow: 0 1px 2px rgba(60, 64, 67, 0.3), 0 1px 3px 1px rgba(60, 64, 67, 0.15);\n",
              "    fill: var(--button-hover-fill-color);\n",
              "  }\n",
              "\n",
              "  .colab-df-quickchart-complete:disabled,\n",
              "  .colab-df-quickchart-complete:disabled:hover {\n",
              "    background-color: var(--disabled-bg-color);\n",
              "    fill: var(--disabled-fill-color);\n",
              "    box-shadow: none;\n",
              "  }\n",
              "\n",
              "  .colab-df-spinner {\n",
              "    border: 2px solid var(--fill-color);\n",
              "    border-color: transparent;\n",
              "    border-bottom-color: var(--fill-color);\n",
              "    animation:\n",
              "      spin 1s steps(1) infinite;\n",
              "  }\n",
              "\n",
              "  @keyframes spin {\n",
              "    0% {\n",
              "      border-color: transparent;\n",
              "      border-bottom-color: var(--fill-color);\n",
              "      border-left-color: var(--fill-color);\n",
              "    }\n",
              "    20% {\n",
              "      border-color: transparent;\n",
              "      border-left-color: var(--fill-color);\n",
              "      border-top-color: var(--fill-color);\n",
              "    }\n",
              "    30% {\n",
              "      border-color: transparent;\n",
              "      border-left-color: var(--fill-color);\n",
              "      border-top-color: var(--fill-color);\n",
              "      border-right-color: var(--fill-color);\n",
              "    }\n",
              "    40% {\n",
              "      border-color: transparent;\n",
              "      border-right-color: var(--fill-color);\n",
              "      border-top-color: var(--fill-color);\n",
              "    }\n",
              "    60% {\n",
              "      border-color: transparent;\n",
              "      border-right-color: var(--fill-color);\n",
              "    }\n",
              "    80% {\n",
              "      border-color: transparent;\n",
              "      border-right-color: var(--fill-color);\n",
              "      border-bottom-color: var(--fill-color);\n",
              "    }\n",
              "    90% {\n",
              "      border-color: transparent;\n",
              "      border-bottom-color: var(--fill-color);\n",
              "    }\n",
              "  }\n",
              "</style>\n",
              "\n",
              "  <script>\n",
              "    async function quickchart(key) {\n",
              "      const quickchartButtonEl =\n",
              "        document.querySelector('#' + key + ' button');\n",
              "      quickchartButtonEl.disabled = true;  // To prevent multiple clicks.\n",
              "      quickchartButtonEl.classList.add('colab-df-spinner');\n",
              "      try {\n",
              "        const charts = await google.colab.kernel.invokeFunction(\n",
              "            'suggestCharts', [key], {});\n",
              "      } catch (error) {\n",
              "        console.error('Error during call to suggestCharts:', error);\n",
              "      }\n",
              "      quickchartButtonEl.classList.remove('colab-df-spinner');\n",
              "      quickchartButtonEl.classList.add('colab-df-quickchart-complete');\n",
              "    }\n",
              "    (() => {\n",
              "      let quickchartButtonEl =\n",
              "        document.querySelector('#df-19dbd73a-625d-4216-a1a0-a798cc088920 button');\n",
              "      quickchartButtonEl.style.display =\n",
              "        google.colab.kernel.accessAllowed ? 'block' : 'none';\n",
              "    })();\n",
              "  </script>\n",
              "</div>\n",
              "\n",
              "    </div>\n",
              "  </div>\n"
            ],
            "application/vnd.google.colaboratory.intrinsic+json": {
              "type": "dataframe",
              "summary": "{\n  \"name\": \"scores_df[['params', 'mean_test_score', 'rank_test_score', 'split0_test_score', 'split1_test_score', 'split2_test_score']]\",\n  \"rows\": 6,\n  \"fields\": [\n    {\n      \"column\": \"params\",\n      \"properties\": {\n        \"dtype\": \"object\",\n        \"semantic_type\": \"\",\n        \"description\": \"\"\n      }\n    },\n    {\n      \"column\": \"mean_test_score\",\n      \"properties\": {\n        \"dtype\": \"number\",\n        \"std\": 0.13790764488786886,\n        \"min\": 0.6999999999999998,\n        \"max\": 0.975,\n        \"num_unique_values\": 3,\n        \"samples\": [\n          0.6999999999999998,\n          0.9583333333333334,\n          0.975\n        ],\n        \"semantic_type\": \"\",\n        \"description\": \"\"\n      }\n    },\n    {\n      \"column\": \"rank_test_score\",\n      \"properties\": {\n        \"dtype\": \"int32\",\n        \"num_unique_values\": 3,\n        \"samples\": [\n          5,\n          3,\n          1\n        ],\n        \"semantic_type\": \"\",\n        \"description\": \"\"\n      }\n    },\n    {\n      \"column\": \"split0_test_score\",\n      \"properties\": {\n        \"dtype\": \"number\",\n        \"std\": 0.131021626713557,\n        \"min\": 0.7,\n        \"max\": 0.975,\n        \"num_unique_values\": 3,\n        \"samples\": [\n          0.7,\n          0.925,\n          0.975\n        ],\n        \"semantic_type\": \"\",\n        \"description\": \"\"\n      }\n    },\n    {\n      \"column\": \"split1_test_score\",\n      \"properties\": {\n        \"dtype\": \"number\",\n        \"std\": 0.1549193338482967,\n        \"min\": 0.7,\n        \"max\": 1.0,\n        \"num_unique_values\": 2,\n        \"samples\": [\n          1.0,\n          0.7\n        ],\n        \"semantic_type\": \"\",\n        \"description\": \"\"\n      }\n    },\n    {\n      \"column\": \"split2_test_score\",\n      \"properties\": {\n        \"dtype\": \"number\",\n        \"std\": 0.12909944487358058,\n        \"min\": 0.7,\n        \"max\": 0.95,\n        \"num_unique_values\": 2,\n        \"samples\": [\n          0.95,\n          0.7\n        ],\n        \"semantic_type\": \"\",\n        \"description\": \"\"\n      }\n    }\n  ]\n}"
            }
          },
          "metadata": {},
          "execution_count": 18
        }
      ]
    },
    {
      "cell_type": "markdown",
      "source": [
        "- 총 6개의 결과\n",
        "- 하이퍼 파라미터 max_depth와 min_samples_split을 순차적으로 총 6번 병경하면서 학습 및 평가를 수행했음을 의미\n",
        "- 'params' 칼럼에는 수행할 때마다 적용된 하이퍼 파라미터 값을 가지고 있음\n",
        "- 인덱스 4번을 보면, 'rand_test_score'칼럼 값이 1 이다.\n",
        "  - 해당 하이퍼 파라미터의 조합인 {'max_depth': 3, 'min_samples_split': 2} 으로 평가한 결과 예측 성능이 1위임을 의미\n",
        "\n",
        "- mean_test_score는 개별 하이퍼 파라미터별로 CV의 폴딩 테스트 세트에 대해 총 수행한 평가 평균값임"
      ],
      "metadata": {
        "id": "JKo8Q1xLPo-Y"
      }
    },
    {
      "cell_type": "code",
      "source": [
        "print('GridSearchCV 최적 파라미터 : ', grid_dtree.best_params_)\n",
        "print('GridSearchCV 최고 정확도 : {0:.4f}'.format(grid_dtree.best_score_))"
      ],
      "metadata": {
        "id": "Tfa08Us_KHLC",
        "colab": {
          "base_uri": "https://localhost:8080/"
        },
        "outputId": "7236cce8-777b-416c-e573-be80a88a8235"
      },
      "execution_count": 20,
      "outputs": [
        {
          "output_type": "stream",
          "name": "stdout",
          "text": [
            "GridSearchCV 최적 파라미터 :  {'max_depth': 3, 'min_samples_split': 2}\n",
            "GridSearchCV 최고 정확도 : 0.9750\n"
          ]
        }
      ]
    },
    {
      "cell_type": "code",
      "source": [
        "# GridSearchCV의 refit으로 이미 학습된 estimator 반환\n",
        "estimator = grid_dtree.best_estimator_\n",
        "\n",
        "# GridSearchCV 의 best_estimator_는 이미 최적 학습이 되었음. 별도 학습 필요 X\n",
        "pred = estimator.predict(X_test)\n",
        "print('테스트 데이터 세트 정확도 : {0:.4f}'.format(accuracy_score(y_test,pred)))"
      ],
      "metadata": {
        "id": "Rzi_sb7aKHIV",
        "colab": {
          "base_uri": "https://localhost:8080/"
        },
        "outputId": "78bac2f7-73ad-4387-bee8-8337c4b20cee"
      },
      "execution_count": 23,
      "outputs": [
        {
          "output_type": "stream",
          "name": "stdout",
          "text": [
            "테스트 데이터 세트 정확도 : 0.9667\n"
          ]
        }
      ]
    },
    {
      "cell_type": "markdown",
      "source": [
        "일반적으로 학습 데이터를 GridSearchCV를 이용해 최적 하이퍼 파라미터 튜닝을 수행한 뒤에 별도의 테스트 세트에서 이를 평가하는 것이 일반적인 머신러닝 모델 적용 방법\n",
        "\n",
        "---"
      ],
      "metadata": {
        "id": "9XLB3bMQRBB9"
      }
    },
    {
      "cell_type": "markdown",
      "source": [
        "# 5. 데이터 전처리\n",
        "- 어떤 데이터를 입력으로 가지는지에 따라 결과가 달라짐\n",
        "- 사이킷런의 ML알고리즘을 적용하기 전에 데이터에 대해 미리 처리"
      ],
      "metadata": {
        "id": "MoJbRtD2RKly"
      }
    },
    {
      "cell_type": "code",
      "source": [],
      "metadata": {
        "id": "GJsguqxuKHF4"
      },
      "execution_count": 7,
      "outputs": []
    },
    {
      "cell_type": "code",
      "source": [],
      "metadata": {
        "id": "kZI-dvQ1KHC8"
      },
      "execution_count": 7,
      "outputs": []
    },
    {
      "cell_type": "code",
      "source": [],
      "metadata": {
        "id": "E-9NRT0QKHAI"
      },
      "execution_count": 7,
      "outputs": []
    },
    {
      "cell_type": "code",
      "source": [],
      "metadata": {
        "id": "meTpvW3PKG9U"
      },
      "execution_count": 7,
      "outputs": []
    },
    {
      "cell_type": "code",
      "source": [],
      "metadata": {
        "id": "UNZZTDSbKG6g"
      },
      "execution_count": 7,
      "outputs": []
    },
    {
      "cell_type": "code",
      "source": [],
      "metadata": {
        "id": "133WwVUcKG3s"
      },
      "execution_count": 7,
      "outputs": []
    },
    {
      "cell_type": "code",
      "source": [],
      "metadata": {
        "id": "WQBWyqKPKG05"
      },
      "execution_count": 7,
      "outputs": []
    },
    {
      "cell_type": "code",
      "source": [],
      "metadata": {
        "id": "1h8RW_QFKGyM"
      },
      "execution_count": 7,
      "outputs": []
    },
    {
      "cell_type": "code",
      "source": [],
      "metadata": {
        "id": "y8-6WZi7KGvf"
      },
      "execution_count": 7,
      "outputs": []
    },
    {
      "cell_type": "code",
      "source": [],
      "metadata": {
        "id": "McN7xgxEKGsz"
      },
      "execution_count": 7,
      "outputs": []
    },
    {
      "cell_type": "code",
      "source": [],
      "metadata": {
        "id": "KU10UUAOKGqH"
      },
      "execution_count": 7,
      "outputs": []
    },
    {
      "cell_type": "code",
      "source": [],
      "metadata": {
        "id": "XsqfRNvZKGna"
      },
      "execution_count": 7,
      "outputs": []
    },
    {
      "cell_type": "code",
      "source": [],
      "metadata": {
        "id": "V-WP2D21KGkt"
      },
      "execution_count": 7,
      "outputs": []
    },
    {
      "cell_type": "code",
      "source": [],
      "metadata": {
        "id": "ZQbu8H0aKGiI"
      },
      "execution_count": 7,
      "outputs": []
    },
    {
      "cell_type": "code",
      "source": [],
      "metadata": {
        "id": "6zSggTn_KGfc"
      },
      "execution_count": 7,
      "outputs": []
    },
    {
      "cell_type": "code",
      "source": [],
      "metadata": {
        "id": "nYxmj_AcKGdG"
      },
      "execution_count": 7,
      "outputs": []
    },
    {
      "cell_type": "code",
      "source": [],
      "metadata": {
        "id": "dVAtfM3KKGah"
      },
      "execution_count": 7,
      "outputs": []
    },
    {
      "cell_type": "code",
      "source": [],
      "metadata": {
        "id": "o7YUxBWAKGYD"
      },
      "execution_count": 7,
      "outputs": []
    },
    {
      "cell_type": "code",
      "source": [],
      "metadata": {
        "id": "WAH0YYCyKGVf"
      },
      "execution_count": 7,
      "outputs": []
    },
    {
      "cell_type": "code",
      "source": [],
      "metadata": {
        "id": "Zl8cwCFHKGTf"
      },
      "execution_count": 7,
      "outputs": []
    },
    {
      "cell_type": "code",
      "source": [],
      "metadata": {
        "id": "6Tfd-Z58MCBk"
      },
      "execution_count": 7,
      "outputs": []
    },
    {
      "cell_type": "code",
      "source": [],
      "metadata": {
        "id": "6o0uergXMB_v"
      },
      "execution_count": 7,
      "outputs": []
    },
    {
      "cell_type": "code",
      "source": [],
      "metadata": {
        "id": "xNSfjVnsMB9t"
      },
      "execution_count": 7,
      "outputs": []
    },
    {
      "cell_type": "code",
      "source": [],
      "metadata": {
        "id": "bwGc7NVfMB72"
      },
      "execution_count": 7,
      "outputs": []
    },
    {
      "cell_type": "code",
      "source": [],
      "metadata": {
        "id": "weaOPympMB5z"
      },
      "execution_count": 7,
      "outputs": []
    },
    {
      "cell_type": "code",
      "source": [],
      "metadata": {
        "id": "Dv57XGsMMB38"
      },
      "execution_count": 7,
      "outputs": []
    },
    {
      "cell_type": "code",
      "source": [],
      "metadata": {
        "id": "BaCgQ11qMB1_"
      },
      "execution_count": 7,
      "outputs": []
    },
    {
      "cell_type": "code",
      "source": [],
      "metadata": {
        "id": "Jx_d6nNMMBz6"
      },
      "execution_count": 7,
      "outputs": []
    },
    {
      "cell_type": "code",
      "source": [],
      "metadata": {
        "id": "0NjaQMXTMByA"
      },
      "execution_count": 7,
      "outputs": []
    },
    {
      "cell_type": "code",
      "source": [],
      "metadata": {
        "id": "oxO9L4b6MBv3"
      },
      "execution_count": 7,
      "outputs": []
    }
  ]
}