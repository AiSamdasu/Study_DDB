{
  "nbformat": 4,
  "nbformat_minor": 0,
  "metadata": {
    "colab": {
      "provenance": [],
      "authorship_tag": "ABX9TyNyhtxdvbOClOAdkZ2JwT6P",
      "include_colab_link": true
    },
    "kernelspec": {
      "name": "python3",
      "display_name": "Python 3"
    },
    "language_info": {
      "name": "python"
    }
  },
  "cells": [
    {
      "cell_type": "markdown",
      "metadata": {
        "id": "view-in-github",
        "colab_type": "text"
      },
      "source": [
        "<a href=\"https://colab.research.google.com/github/AiSamdasu/Study_DDB/blob/main/Chapter2.ipynb\" target=\"_parent\"><img src=\"https://colab.research.google.com/assets/colab-badge.svg\" alt=\"Open In Colab\"/></a>"
      ]
    },
    {
      "cell_type": "markdown",
      "source": [
        "# 1. 사이킷런(scikit-learn)\n",
        "- 머신러닝 라이브러리(파이썬 ML 라이브러리)\n",
        "- 가장 많이씀"
      ],
      "metadata": {
        "id": "4WfTcNH0AlJu"
      }
    },
    {
      "cell_type": "markdown",
      "source": [
        "# 2. 붓꽃 품종 예측하기\n"
      ],
      "metadata": {
        "id": "X0p69rN3BKU5"
      }
    },
    {
      "cell_type": "markdown",
      "source": [
        "### 지도학습\n",
        "- 분류, 회귀 : 대표적인 지도학습\n",
        "- 학습을 위한 다양한 피처와 분류 결정값인 레이블(Label)데이터로 모델을 학습한 뒤,별도의 테스트 데이터 세트에서 미지의 레이블을 예측\n",
        "- 명확한 정답이 주어진 데이터를 먼저 학습 -> 미지의 정답을 예측하는 방식\n",
        "---\n",
        "학습 데이터 세트 : 학습을 위해 주어진 데이터 세트\n",
        "테스트 데이터 세트 : 머신러닝 모델의 예측 성능을 평가하기 위해 별도로 주어진 데이터 세트"
      ],
      "metadata": {
        "id": "bvJq71YqDxKs"
      }
    },
    {
      "cell_type": "markdown",
      "source": [
        "### 레이블 데이터 세트의 개념\n",
        "- 데이터 샘플(입력 데이터, feature)과 정답(출력 데이터, label)이 함께 존재하는 데이터 세트.\n",
        "- 지도학습(Supervised Learning)에 사용됨.<br><br>\n",
        "---\n",
        "- 데이터 분석에서 **레이블 데이터 세트(labeled dataset)**란, 각 데이터 포인트에 대해 **정답(레이블, label)**이 명확하게 주어진 데이터 세트를 의미"
      ],
      "metadata": {
        "id": "OruxcJX6JKby"
      }
    },
    {
      "cell_type": "markdown",
      "source": [
        "### 사이킷 런 사용\n",
        "- 사이킷런 패키지내의 모듈명 : sklearn\n"
      ],
      "metadata": {
        "id": "-Ue24HPnEFgM"
      }
    },
    {
      "cell_type": "code",
      "execution_count": 2,
      "metadata": {
        "id": "KwKD7CqiL-k6"
      },
      "outputs": [],
      "source": [
        "import pandas as pd\n",
        "import numpy as np\n",
        "from sklearn.model_selection import train_test_split\n",
        "# 학습 데이터와 검증 데이터, 예측 데이터로 데이터를 분리\n",
        "# 최적의 하이퍼 파라미터로 평가하기 위한 다양한 모듈 모임\n",
        "#         하이퍼 파라미터 : 최적의 학습을 위해 직접 입력하는 파라미터\n",
        "from sklearn.tree import DecisionTreeClassifier\n",
        "# 트리 기반 ML알고리즘을 구현한 클래스의 모임\n",
        "from sklearn.datasets import load_iris\n",
        "# 사이킷런에서 자체적으로 제공하는 데이터 세트를 생성하는 모듈의 모임"
      ]
    },
    {
      "cell_type": "code",
      "source": [
        "iris = load_iris()\n",
        "# iris.data -> Iris 데이터 세트에서 피처(feature)만으로 된 데이터를 numpy로 보유\n",
        "iris_data = iris.data\n",
        "# 붓꽃 데이터 세트에서 레이블(결정 값) 데이터를 numpy로 보유\n",
        "iris_label = iris.target\n",
        "\n",
        "# DF로 변경\n",
        "iris_df = pd.DataFrame(data=iris_data, columns=iris.feature_names)\n",
        "iris_df['label'] = iris.target\n",
        "iris_df.head(3)\n"
      ],
      "metadata": {
        "id": "nC9yodzrMC8d",
        "colab": {
          "base_uri": "https://localhost:8080/",
          "height": 143
        },
        "outputId": "02ab53dc-45c7-4f40-cbb7-e59e1dc7d46e"
      },
      "execution_count": 4,
      "outputs": [
        {
          "output_type": "execute_result",
          "data": {
            "text/plain": [
              "   sepal length (cm)  sepal width (cm)  petal length (cm)  petal width (cm)  \\\n",
              "0                5.1               3.5                1.4               0.2   \n",
              "1                4.9               3.0                1.4               0.2   \n",
              "2                4.7               3.2                1.3               0.2   \n",
              "\n",
              "   label  \n",
              "0      0  \n",
              "1      0  \n",
              "2      0  "
            ],
            "text/html": [
              "\n",
              "  <div id=\"df-3a8b4ca9-282b-46b6-bed9-dae6c51e06b0\" class=\"colab-df-container\">\n",
              "    <div>\n",
              "<style scoped>\n",
              "    .dataframe tbody tr th:only-of-type {\n",
              "        vertical-align: middle;\n",
              "    }\n",
              "\n",
              "    .dataframe tbody tr th {\n",
              "        vertical-align: top;\n",
              "    }\n",
              "\n",
              "    .dataframe thead th {\n",
              "        text-align: right;\n",
              "    }\n",
              "</style>\n",
              "<table border=\"1\" class=\"dataframe\">\n",
              "  <thead>\n",
              "    <tr style=\"text-align: right;\">\n",
              "      <th></th>\n",
              "      <th>sepal length (cm)</th>\n",
              "      <th>sepal width (cm)</th>\n",
              "      <th>petal length (cm)</th>\n",
              "      <th>petal width (cm)</th>\n",
              "      <th>label</th>\n",
              "    </tr>\n",
              "  </thead>\n",
              "  <tbody>\n",
              "    <tr>\n",
              "      <th>0</th>\n",
              "      <td>5.1</td>\n",
              "      <td>3.5</td>\n",
              "      <td>1.4</td>\n",
              "      <td>0.2</td>\n",
              "      <td>0</td>\n",
              "    </tr>\n",
              "    <tr>\n",
              "      <th>1</th>\n",
              "      <td>4.9</td>\n",
              "      <td>3.0</td>\n",
              "      <td>1.4</td>\n",
              "      <td>0.2</td>\n",
              "      <td>0</td>\n",
              "    </tr>\n",
              "    <tr>\n",
              "      <th>2</th>\n",
              "      <td>4.7</td>\n",
              "      <td>3.2</td>\n",
              "      <td>1.3</td>\n",
              "      <td>0.2</td>\n",
              "      <td>0</td>\n",
              "    </tr>\n",
              "  </tbody>\n",
              "</table>\n",
              "</div>\n",
              "    <div class=\"colab-df-buttons\">\n",
              "\n",
              "  <div class=\"colab-df-container\">\n",
              "    <button class=\"colab-df-convert\" onclick=\"convertToInteractive('df-3a8b4ca9-282b-46b6-bed9-dae6c51e06b0')\"\n",
              "            title=\"Convert this dataframe to an interactive table.\"\n",
              "            style=\"display:none;\">\n",
              "\n",
              "  <svg xmlns=\"http://www.w3.org/2000/svg\" height=\"24px\" viewBox=\"0 -960 960 960\">\n",
              "    <path d=\"M120-120v-720h720v720H120Zm60-500h600v-160H180v160Zm220 220h160v-160H400v160Zm0 220h160v-160H400v160ZM180-400h160v-160H180v160Zm440 0h160v-160H620v160ZM180-180h160v-160H180v160Zm440 0h160v-160H620v160Z\"/>\n",
              "  </svg>\n",
              "    </button>\n",
              "\n",
              "  <style>\n",
              "    .colab-df-container {\n",
              "      display:flex;\n",
              "      gap: 12px;\n",
              "    }\n",
              "\n",
              "    .colab-df-convert {\n",
              "      background-color: #E8F0FE;\n",
              "      border: none;\n",
              "      border-radius: 50%;\n",
              "      cursor: pointer;\n",
              "      display: none;\n",
              "      fill: #1967D2;\n",
              "      height: 32px;\n",
              "      padding: 0 0 0 0;\n",
              "      width: 32px;\n",
              "    }\n",
              "\n",
              "    .colab-df-convert:hover {\n",
              "      background-color: #E2EBFA;\n",
              "      box-shadow: 0px 1px 2px rgba(60, 64, 67, 0.3), 0px 1px 3px 1px rgba(60, 64, 67, 0.15);\n",
              "      fill: #174EA6;\n",
              "    }\n",
              "\n",
              "    .colab-df-buttons div {\n",
              "      margin-bottom: 4px;\n",
              "    }\n",
              "\n",
              "    [theme=dark] .colab-df-convert {\n",
              "      background-color: #3B4455;\n",
              "      fill: #D2E3FC;\n",
              "    }\n",
              "\n",
              "    [theme=dark] .colab-df-convert:hover {\n",
              "      background-color: #434B5C;\n",
              "      box-shadow: 0px 1px 3px 1px rgba(0, 0, 0, 0.15);\n",
              "      filter: drop-shadow(0px 1px 2px rgba(0, 0, 0, 0.3));\n",
              "      fill: #FFFFFF;\n",
              "    }\n",
              "  </style>\n",
              "\n",
              "    <script>\n",
              "      const buttonEl =\n",
              "        document.querySelector('#df-3a8b4ca9-282b-46b6-bed9-dae6c51e06b0 button.colab-df-convert');\n",
              "      buttonEl.style.display =\n",
              "        google.colab.kernel.accessAllowed ? 'block' : 'none';\n",
              "\n",
              "      async function convertToInteractive(key) {\n",
              "        const element = document.querySelector('#df-3a8b4ca9-282b-46b6-bed9-dae6c51e06b0');\n",
              "        const dataTable =\n",
              "          await google.colab.kernel.invokeFunction('convertToInteractive',\n",
              "                                                    [key], {});\n",
              "        if (!dataTable) return;\n",
              "\n",
              "        const docLinkHtml = 'Like what you see? Visit the ' +\n",
              "          '<a target=\"_blank\" href=https://colab.research.google.com/notebooks/data_table.ipynb>data table notebook</a>'\n",
              "          + ' to learn more about interactive tables.';\n",
              "        element.innerHTML = '';\n",
              "        dataTable['output_type'] = 'display_data';\n",
              "        await google.colab.output.renderOutput(dataTable, element);\n",
              "        const docLink = document.createElement('div');\n",
              "        docLink.innerHTML = docLinkHtml;\n",
              "        element.appendChild(docLink);\n",
              "      }\n",
              "    </script>\n",
              "  </div>\n",
              "\n",
              "\n",
              "<div id=\"df-0197bc45-4411-4039-9e4b-345703a9f69d\">\n",
              "  <button class=\"colab-df-quickchart\" onclick=\"quickchart('df-0197bc45-4411-4039-9e4b-345703a9f69d')\"\n",
              "            title=\"Suggest charts\"\n",
              "            style=\"display:none;\">\n",
              "\n",
              "<svg xmlns=\"http://www.w3.org/2000/svg\" height=\"24px\"viewBox=\"0 0 24 24\"\n",
              "     width=\"24px\">\n",
              "    <g>\n",
              "        <path d=\"M19 3H5c-1.1 0-2 .9-2 2v14c0 1.1.9 2 2 2h14c1.1 0 2-.9 2-2V5c0-1.1-.9-2-2-2zM9 17H7v-7h2v7zm4 0h-2V7h2v10zm4 0h-2v-4h2v4z\"/>\n",
              "    </g>\n",
              "</svg>\n",
              "  </button>\n",
              "\n",
              "<style>\n",
              "  .colab-df-quickchart {\n",
              "      --bg-color: #E8F0FE;\n",
              "      --fill-color: #1967D2;\n",
              "      --hover-bg-color: #E2EBFA;\n",
              "      --hover-fill-color: #174EA6;\n",
              "      --disabled-fill-color: #AAA;\n",
              "      --disabled-bg-color: #DDD;\n",
              "  }\n",
              "\n",
              "  [theme=dark] .colab-df-quickchart {\n",
              "      --bg-color: #3B4455;\n",
              "      --fill-color: #D2E3FC;\n",
              "      --hover-bg-color: #434B5C;\n",
              "      --hover-fill-color: #FFFFFF;\n",
              "      --disabled-bg-color: #3B4455;\n",
              "      --disabled-fill-color: #666;\n",
              "  }\n",
              "\n",
              "  .colab-df-quickchart {\n",
              "    background-color: var(--bg-color);\n",
              "    border: none;\n",
              "    border-radius: 50%;\n",
              "    cursor: pointer;\n",
              "    display: none;\n",
              "    fill: var(--fill-color);\n",
              "    height: 32px;\n",
              "    padding: 0;\n",
              "    width: 32px;\n",
              "  }\n",
              "\n",
              "  .colab-df-quickchart:hover {\n",
              "    background-color: var(--hover-bg-color);\n",
              "    box-shadow: 0 1px 2px rgba(60, 64, 67, 0.3), 0 1px 3px 1px rgba(60, 64, 67, 0.15);\n",
              "    fill: var(--button-hover-fill-color);\n",
              "  }\n",
              "\n",
              "  .colab-df-quickchart-complete:disabled,\n",
              "  .colab-df-quickchart-complete:disabled:hover {\n",
              "    background-color: var(--disabled-bg-color);\n",
              "    fill: var(--disabled-fill-color);\n",
              "    box-shadow: none;\n",
              "  }\n",
              "\n",
              "  .colab-df-spinner {\n",
              "    border: 2px solid var(--fill-color);\n",
              "    border-color: transparent;\n",
              "    border-bottom-color: var(--fill-color);\n",
              "    animation:\n",
              "      spin 1s steps(1) infinite;\n",
              "  }\n",
              "\n",
              "  @keyframes spin {\n",
              "    0% {\n",
              "      border-color: transparent;\n",
              "      border-bottom-color: var(--fill-color);\n",
              "      border-left-color: var(--fill-color);\n",
              "    }\n",
              "    20% {\n",
              "      border-color: transparent;\n",
              "      border-left-color: var(--fill-color);\n",
              "      border-top-color: var(--fill-color);\n",
              "    }\n",
              "    30% {\n",
              "      border-color: transparent;\n",
              "      border-left-color: var(--fill-color);\n",
              "      border-top-color: var(--fill-color);\n",
              "      border-right-color: var(--fill-color);\n",
              "    }\n",
              "    40% {\n",
              "      border-color: transparent;\n",
              "      border-right-color: var(--fill-color);\n",
              "      border-top-color: var(--fill-color);\n",
              "    }\n",
              "    60% {\n",
              "      border-color: transparent;\n",
              "      border-right-color: var(--fill-color);\n",
              "    }\n",
              "    80% {\n",
              "      border-color: transparent;\n",
              "      border-right-color: var(--fill-color);\n",
              "      border-bottom-color: var(--fill-color);\n",
              "    }\n",
              "    90% {\n",
              "      border-color: transparent;\n",
              "      border-bottom-color: var(--fill-color);\n",
              "    }\n",
              "  }\n",
              "</style>\n",
              "\n",
              "  <script>\n",
              "    async function quickchart(key) {\n",
              "      const quickchartButtonEl =\n",
              "        document.querySelector('#' + key + ' button');\n",
              "      quickchartButtonEl.disabled = true;  // To prevent multiple clicks.\n",
              "      quickchartButtonEl.classList.add('colab-df-spinner');\n",
              "      try {\n",
              "        const charts = await google.colab.kernel.invokeFunction(\n",
              "            'suggestCharts', [key], {});\n",
              "      } catch (error) {\n",
              "        console.error('Error during call to suggestCharts:', error);\n",
              "      }\n",
              "      quickchartButtonEl.classList.remove('colab-df-spinner');\n",
              "      quickchartButtonEl.classList.add('colab-df-quickchart-complete');\n",
              "    }\n",
              "    (() => {\n",
              "      let quickchartButtonEl =\n",
              "        document.querySelector('#df-0197bc45-4411-4039-9e4b-345703a9f69d button');\n",
              "      quickchartButtonEl.style.display =\n",
              "        google.colab.kernel.accessAllowed ? 'block' : 'none';\n",
              "    })();\n",
              "  </script>\n",
              "</div>\n",
              "\n",
              "    </div>\n",
              "  </div>\n"
            ],
            "application/vnd.google.colaboratory.intrinsic+json": {
              "type": "dataframe",
              "variable_name": "iris_df",
              "summary": "{\n  \"name\": \"iris_df\",\n  \"rows\": 150,\n  \"fields\": [\n    {\n      \"column\": \"sepal length (cm)\",\n      \"properties\": {\n        \"dtype\": \"number\",\n        \"std\": 0.8280661279778629,\n        \"min\": 4.3,\n        \"max\": 7.9,\n        \"num_unique_values\": 35,\n        \"samples\": [\n          6.2,\n          4.5,\n          5.6\n        ],\n        \"semantic_type\": \"\",\n        \"description\": \"\"\n      }\n    },\n    {\n      \"column\": \"sepal width (cm)\",\n      \"properties\": {\n        \"dtype\": \"number\",\n        \"std\": 0.435866284936698,\n        \"min\": 2.0,\n        \"max\": 4.4,\n        \"num_unique_values\": 23,\n        \"samples\": [\n          2.3,\n          4.0,\n          3.5\n        ],\n        \"semantic_type\": \"\",\n        \"description\": \"\"\n      }\n    },\n    {\n      \"column\": \"petal length (cm)\",\n      \"properties\": {\n        \"dtype\": \"number\",\n        \"std\": 1.7652982332594667,\n        \"min\": 1.0,\n        \"max\": 6.9,\n        \"num_unique_values\": 43,\n        \"samples\": [\n          6.7,\n          3.8,\n          3.7\n        ],\n        \"semantic_type\": \"\",\n        \"description\": \"\"\n      }\n    },\n    {\n      \"column\": \"petal width (cm)\",\n      \"properties\": {\n        \"dtype\": \"number\",\n        \"std\": 0.7622376689603465,\n        \"min\": 0.1,\n        \"max\": 2.5,\n        \"num_unique_values\": 22,\n        \"samples\": [\n          0.2,\n          1.2,\n          1.3\n        ],\n        \"semantic_type\": \"\",\n        \"description\": \"\"\n      }\n    },\n    {\n      \"column\": \"label\",\n      \"properties\": {\n        \"dtype\": \"number\",\n        \"std\": 0,\n        \"min\": 0,\n        \"max\": 2,\n        \"num_unique_values\": 3,\n        \"samples\": [\n          0,\n          1,\n          2\n        ],\n        \"semantic_type\": \"\",\n        \"description\": \"\"\n      }\n    }\n  ]\n}"
            }
          },
          "metadata": {},
          "execution_count": 4
        }
      ]
    },
    {
      "cell_type": "markdown",
      "source": [
        "### 학습용 데이터와 테스트용 데이터로 분리 -> train_test_split() API 사용  \n",
        " train_test_split(\n",
        "  <br>&nbsp;&nbsp;&nbsp;&nbsp;(1: 피처 데이터 세트),\n",
        "  <br>&nbsp;&nbsp;&nbsp;&nbsp;(2: 레이블(Label) 데이터 세트),\n",
        "  <br>&nbsp;&nbsp;&nbsp;&nbsp;(3: test_size == 테스트 데이터 세트의 비율, 20%),\n",
        "  <br>&nbsp;&nbsp;&nbsp;&nbsp;(4: random_state == 수행할때 동일한 학습/테스트 용 데이터 세트를 생성, seed값 )\n",
        "  <br>)"
      ],
      "metadata": {
        "id": "f4o967FAGJbs"
      }
    },
    {
      "cell_type": "code",
      "source": [
        "X_train, X_test, y_train, y_test = train_test_split(iris_data, iris_label, test_size=0.2, random_state=11)\n",
        "# X_train -> 학습용 피처 데이터 세트\n",
        "# X_test -> 테스트용 피처 데이터 세트\n",
        "# y_train -> 학습용 레이블 데이터 세트\n",
        "# y_test -> 테스트용 레이블 데이터 세트"
      ],
      "metadata": {
        "id": "tKWnr01PKHxH"
      },
      "execution_count": 6,
      "outputs": []
    },
    {
      "cell_type": "markdown",
      "source": [
        "### 머신러닝 분류 알고리즘의 하나인, 의사 결정 트리 사용\n",
        "- DecisionTreeClassifier 를 객체로 사용\n",
        "---\n",
        "### DecisionTreeClassifier\n",
        "- 결정 트리(Decision Tree) 알고리즘을 사용하여 분류(Classification)를 수행하는 모델\n",
        "- 데이터의 특징(feature)에 따라 조건문(if-else) 형태의 트리 구조를 형성하여 학습\n",
        "- 특정 기준(예: 지니 지수, 엔트로피 등)을 사용하여 데이터를 여러 그룹으로 나누어 최적의 분류를 수행."
      ],
      "metadata": {
        "id": "rO1Iy-SBJrCd"
      }
    },
    {
      "cell_type": "code",
      "source": [
        "# DecisionTreeClassifier 객체 생성\n",
        "dt_clf = DecisionTreeClassifier(random_state=11)\n",
        "\n",
        "# 학습 수행\n",
        "dt_clf.fit(X_train, y_train)\n",
        "\n",
        "# 학습이 완료된 DecisionTreeClassifier객체에서 테스트 데이터로 예측 수행\n",
        "pred = dt_clf.predict(X_test)\n",
        "\n",
        "# 사이킷런에서 제공하는 score 확인 함수\n",
        "from sklearn.metrics import accuracy_score\n",
        "print('예측 정확도 : {0:.4f}'.format(accuracy_score(y_test, pred)))"
      ],
      "metadata": {
        "id": "sQ82QfprKHuT",
        "colab": {
          "base_uri": "https://localhost:8080/"
        },
        "outputId": "7079ab04-a49a-468c-f805-651c770aa9bd"
      },
      "execution_count": 8,
      "outputs": [
        {
          "output_type": "stream",
          "name": "stdout",
          "text": [
            "예측 정확도 : 0.9333\n"
          ]
        }
      ]
    },
    {
      "cell_type": "markdown",
      "source": [
        "\n",
        "현재까지 붓꽃 데이터 세트로 분류를 예측한 프로세스\n",
        "1. 데이터 세트 분리 : 학습 데이터와 테스트 데이터로 분리\n",
        "2. 모델 학습 : 학습 데이터로 ML모델 학습\n",
        "3. 예측 수행 : 학습된 ML모델로 테스트 데이터로 예측\n",
        "4. 평가 : score\n",
        "---"
      ],
      "metadata": {
        "id": "4QFtadZvMY5H"
      }
    },
    {
      "cell_type": "markdown",
      "source": [
        "---\n",
        "## fit(), predict() 메서드\n",
        "- fit() : ML모델 학습\n",
        "- predict() : 학습된 모델 예측\n",
        "---\n",
        "## Estimator : 지도학습의 모든 알고리즘을 구현한 클래스 통칭\n",
        "Estimator -> Classifier + Regressor\n",
        "- Classifier : 분류 알고리즘을 구현한 클래스\n",
        "- Regressor : 회귀 알고리즘을 구현한 클래스\n",
        "---"
      ],
      "metadata": {
        "id": "iDYqjZ0NNeqw"
      }
    },
    {
      "cell_type": "markdown",
      "source": [
        "# 3. 사이킷런 주요 모듈 정리\n",
        "\n",
        "| 분류 | 모듈명 | 설명 |\n",
        "|------|-------|------|\n",
        "| 예제 데이터 | `sklearn.datasets` | 사이킷런에서 제공하는 다양한 예제 데이터 셋 |\n",
        "| 피처 처리 | `sklearn.feature_extraction` | 텍스트 데이터나 이미지 데이터의 벡터화된 피처를 추출하는 기능 제공 |\n",
        "| |`sklearn.preprocessing` |데이터 전처리에 필요한 다양한 가공 기능(문자열을 숫자형 코드값으로 인코딩, 정규화, 스케일링 등) |\n",
        "| |`sklearn.feature_selection`| 알고리즘에 큰 영향을 미치는 피처를 우선순위대로 셀렉션 작업을 수행하는 다양한 기능 제공|\n",
        "| 피처 처리 & 차원 축소 | `sklearn.decomposition` | 차원 축소와 관련된 알고리즘 제공 (PCA, NMF 등) |\n",
        "| 데이터 분리, 검증 & 파라미터 튜닝 | `sklearn.model_selection` | 교차 검증을 위한 학습/테스트용 데이터 분리, Grid Search를 통한 최적 파라미터 추출 기능 제공 |\n",
        "| 평가 | `sklearn.metrics` | 분류, 회귀, 클러스터링, 피어와이즈(Pariwise) 성능 측정 방법 제공 |\n",
        "| ML 알고리즘 | `sklearn.ensemble` | 앙상블 알고리즘 제공 (랜덤 포레스트, 에이다 부스트 등) |\n",
        "|  | `sklearn.linear_model` | 회귀 관련 알고리즘 제공 (릿지, 라쏘, SGD 등) |\n",
        "|  | `sklearn.naive_bayes` | 나이브 베이즈 알고리즘 제공 (가우시안 NB, 다항 분포 NB 등) |\n",
        "|  | `sklearn.neighbors` | 최근접 이웃 알고리즘 제공 (K-NN 등) |\n",
        "|  | `sklearn.svm` | 서포트 벡터 머신 알고리즘 제공 |\n",
        "|  | `sklearn.tree` | 의사 결정 트리 알고리즘 제공 |\n",
        "|  | `sklearn.cluster` | 비지도 클러스터링 알고리즘 제공 (K-평균, 계층형, DBSCAN 등) |\n",
        "| 유틸리티 | `sklearn.preprocessing` | 피처 스케일링 및 전처리 기능 제공 |\n",
        "|  | `sklearn.pipeline` | 피처 처리 등의 변환과 ML 알고리즘 학습, 예측 등을 함께 묶어서 실행할 수 있는 유틸리티 제공 |\n"
      ],
      "metadata": {
        "id": "9HVoNuhFOFzk"
      }
    },
    {
      "cell_type": "markdown",
      "source": [
        "# 4. Model Selection 모듈 소개\n",
        "Model Selection 모듈 : 학습 데이터와 테스트 데이터 세트를 분리하거나 교차 검증 분할 및 평가, Estimator의 하이퍼 파라미터를 튜닝 하기 위한 다양한 함수와 클래스 제공"
      ],
      "metadata": {
        "id": "kvIvDfAdRerV"
      }
    },
    {
      "cell_type": "markdown",
      "source": [
        "### train_test_split()\n",
        "- 학습데이터와 예측데이터가 동일 -> 정확도 100% 문제 발생\n",
        "- 따라서 분리\n",
        "---\n",
        "train_test_split( (피처 데이터 세트), (레이블 데이터 세트), (선택적 파라미터 입력))"
      ],
      "metadata": {
        "id": "ouTGRBRERzx7"
      }
    },
    {
      "cell_type": "code",
      "source": [
        "# test_size : 전체 데이터에서 테스트 데이터 세트의 크기를 얼마나 할지 정함, 디폴트 0.25(25%)\n",
        "# shuffle : 데이터를 분리하기 전에 데이터를 미리 섞을지 정함, 디폴트 True\n",
        "# random_state : 호출할때 동일할 학습/테스트용 데이터 세트를 생성하깅 위한 난수 값\n",
        "from sklearn.datasets import load_iris\n",
        "from sklearn.tree import DecisionTreeClassifier\n",
        "from sklearn.metrics import accuracy_score\n",
        "from sklearn.model_selection import train_test_split\n",
        "\n",
        "iris = load_iris()\n",
        "dt_clf = DecisionTreeClassifier()\n",
        "# 테스트 데이터 세트를 전체 30%로 설정\n",
        "X_train, X_test, y_train, y_test = train_test_split(iris.data, iris.target, test_size=0.3, random_state=121)\n",
        "dt_clf.fit(X_train, y_train)\n",
        "pred = dt_clf.predict(X_test)\n",
        "print('예측 정확도 : {0:.4f}'.format(accuracy_score(y_test, pred)))"
      ],
      "metadata": {
        "id": "GzpeNtVsKHok",
        "colab": {
          "base_uri": "https://localhost:8080/"
        },
        "outputId": "7675c0d4-278a-47d8-f411-75b919e4e295"
      },
      "execution_count": 9,
      "outputs": [
        {
          "output_type": "stream",
          "name": "stdout",
          "text": [
            "예측 정확도 : 0.9556\n"
          ]
        }
      ]
    },
    {
      "cell_type": "markdown",
      "source": [
        "## 교차 검증\n"
      ],
      "metadata": {
        "id": "X7QsfJsETU1U"
      }
    },
    {
      "cell_type": "code",
      "source": [],
      "metadata": {
        "id": "UfpvxxwDKHlw"
      },
      "execution_count": null,
      "outputs": []
    },
    {
      "cell_type": "code",
      "source": [],
      "metadata": {
        "id": "TcvHDPUdKHjL"
      },
      "execution_count": null,
      "outputs": []
    },
    {
      "cell_type": "code",
      "source": [],
      "metadata": {
        "id": "d1lNJ0R2KHgX"
      },
      "execution_count": null,
      "outputs": []
    },
    {
      "cell_type": "code",
      "source": [],
      "metadata": {
        "id": "5hES-ZqaKHdj"
      },
      "execution_count": null,
      "outputs": []
    },
    {
      "cell_type": "code",
      "source": [],
      "metadata": {
        "id": "bL8leiZKKHa4"
      },
      "execution_count": null,
      "outputs": []
    },
    {
      "cell_type": "code",
      "source": [],
      "metadata": {
        "id": "7gxVv232KHYK"
      },
      "execution_count": null,
      "outputs": []
    },
    {
      "cell_type": "code",
      "source": [],
      "metadata": {
        "id": "Vz176r7oKHVd"
      },
      "execution_count": null,
      "outputs": []
    },
    {
      "cell_type": "code",
      "source": [],
      "metadata": {
        "id": "JcxoEUPnKHTA"
      },
      "execution_count": null,
      "outputs": []
    },
    {
      "cell_type": "code",
      "source": [],
      "metadata": {
        "id": "vtScdZW4KHQM"
      },
      "execution_count": null,
      "outputs": []
    },
    {
      "cell_type": "code",
      "source": [],
      "metadata": {
        "id": "iBSaeaGMKHNv"
      },
      "execution_count": null,
      "outputs": []
    },
    {
      "cell_type": "code",
      "source": [],
      "metadata": {
        "id": "Tfa08Us_KHLC"
      },
      "execution_count": null,
      "outputs": []
    },
    {
      "cell_type": "code",
      "source": [],
      "metadata": {
        "id": "Rzi_sb7aKHIV"
      },
      "execution_count": null,
      "outputs": []
    },
    {
      "cell_type": "code",
      "source": [],
      "metadata": {
        "id": "GJsguqxuKHF4"
      },
      "execution_count": null,
      "outputs": []
    },
    {
      "cell_type": "code",
      "source": [],
      "metadata": {
        "id": "kZI-dvQ1KHC8"
      },
      "execution_count": null,
      "outputs": []
    },
    {
      "cell_type": "code",
      "source": [],
      "metadata": {
        "id": "E-9NRT0QKHAI"
      },
      "execution_count": null,
      "outputs": []
    },
    {
      "cell_type": "code",
      "source": [],
      "metadata": {
        "id": "meTpvW3PKG9U"
      },
      "execution_count": null,
      "outputs": []
    },
    {
      "cell_type": "code",
      "source": [],
      "metadata": {
        "id": "UNZZTDSbKG6g"
      },
      "execution_count": null,
      "outputs": []
    },
    {
      "cell_type": "code",
      "source": [],
      "metadata": {
        "id": "133WwVUcKG3s"
      },
      "execution_count": null,
      "outputs": []
    },
    {
      "cell_type": "code",
      "source": [],
      "metadata": {
        "id": "WQBWyqKPKG05"
      },
      "execution_count": null,
      "outputs": []
    },
    {
      "cell_type": "code",
      "source": [],
      "metadata": {
        "id": "1h8RW_QFKGyM"
      },
      "execution_count": null,
      "outputs": []
    },
    {
      "cell_type": "code",
      "source": [],
      "metadata": {
        "id": "y8-6WZi7KGvf"
      },
      "execution_count": null,
      "outputs": []
    },
    {
      "cell_type": "code",
      "source": [],
      "metadata": {
        "id": "McN7xgxEKGsz"
      },
      "execution_count": null,
      "outputs": []
    },
    {
      "cell_type": "code",
      "source": [],
      "metadata": {
        "id": "KU10UUAOKGqH"
      },
      "execution_count": null,
      "outputs": []
    },
    {
      "cell_type": "code",
      "source": [],
      "metadata": {
        "id": "XsqfRNvZKGna"
      },
      "execution_count": null,
      "outputs": []
    },
    {
      "cell_type": "code",
      "source": [],
      "metadata": {
        "id": "V-WP2D21KGkt"
      },
      "execution_count": null,
      "outputs": []
    },
    {
      "cell_type": "code",
      "source": [],
      "metadata": {
        "id": "ZQbu8H0aKGiI"
      },
      "execution_count": null,
      "outputs": []
    },
    {
      "cell_type": "code",
      "source": [],
      "metadata": {
        "id": "6zSggTn_KGfc"
      },
      "execution_count": null,
      "outputs": []
    },
    {
      "cell_type": "code",
      "source": [],
      "metadata": {
        "id": "nYxmj_AcKGdG"
      },
      "execution_count": null,
      "outputs": []
    },
    {
      "cell_type": "code",
      "source": [],
      "metadata": {
        "id": "dVAtfM3KKGah"
      },
      "execution_count": null,
      "outputs": []
    },
    {
      "cell_type": "code",
      "source": [],
      "metadata": {
        "id": "o7YUxBWAKGYD"
      },
      "execution_count": null,
      "outputs": []
    },
    {
      "cell_type": "code",
      "source": [],
      "metadata": {
        "id": "WAH0YYCyKGVf"
      },
      "execution_count": null,
      "outputs": []
    },
    {
      "cell_type": "code",
      "source": [],
      "metadata": {
        "id": "Zl8cwCFHKGTf"
      },
      "execution_count": null,
      "outputs": []
    },
    {
      "cell_type": "code",
      "source": [],
      "metadata": {
        "id": "6Tfd-Z58MCBk"
      },
      "execution_count": null,
      "outputs": []
    },
    {
      "cell_type": "code",
      "source": [],
      "metadata": {
        "id": "6o0uergXMB_v"
      },
      "execution_count": null,
      "outputs": []
    },
    {
      "cell_type": "code",
      "source": [],
      "metadata": {
        "id": "xNSfjVnsMB9t"
      },
      "execution_count": null,
      "outputs": []
    },
    {
      "cell_type": "code",
      "source": [],
      "metadata": {
        "id": "bwGc7NVfMB72"
      },
      "execution_count": null,
      "outputs": []
    },
    {
      "cell_type": "code",
      "source": [],
      "metadata": {
        "id": "weaOPympMB5z"
      },
      "execution_count": null,
      "outputs": []
    },
    {
      "cell_type": "code",
      "source": [],
      "metadata": {
        "id": "Dv57XGsMMB38"
      },
      "execution_count": null,
      "outputs": []
    },
    {
      "cell_type": "code",
      "source": [],
      "metadata": {
        "id": "BaCgQ11qMB1_"
      },
      "execution_count": null,
      "outputs": []
    },
    {
      "cell_type": "code",
      "source": [],
      "metadata": {
        "id": "Jx_d6nNMMBz6"
      },
      "execution_count": null,
      "outputs": []
    },
    {
      "cell_type": "code",
      "source": [],
      "metadata": {
        "id": "0NjaQMXTMByA"
      },
      "execution_count": null,
      "outputs": []
    },
    {
      "cell_type": "code",
      "source": [],
      "metadata": {
        "id": "oxO9L4b6MBv3"
      },
      "execution_count": null,
      "outputs": []
    }
  ]
}